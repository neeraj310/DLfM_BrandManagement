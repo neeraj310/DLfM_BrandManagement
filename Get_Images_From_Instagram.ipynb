{
 "cells": [
  {
   "cell_type": "markdown",
   "metadata": {},
   "source": [
    "# Image Retrieval From Instagram\n",
    "\n",
    "Goal: collect image data from instagram and then preprocess it, extract information (image files) from a user's Instagram profile\n",
    "\n",
    "Image size: 224*224\n",
    "\n",
    "Resolution: \n",
    "\n",
    "Number of images: \n",
    "\n"
   ]
  },
  {
   "cell_type": "markdown",
   "metadata": {},
   "source": [
    "#### Websites: \n",
    "\n",
    "This notebook's code is based on the following tutorials: \n",
    "\n",
    "https://medium.com/@srujana.rao2/scraping-instagram-with-python-using-selenium-and-beautiful-soup-8b72c186a058\n",
    "\n",
    "https://edmundmartin.com/scraping-instagram-with-python/\n",
    "\n",
    "https://michaeljsanders.com/2017/05/12/scrapin-and-scrollin.html"
   ]
  },
  {
   "cell_type": "markdown",
   "metadata": {},
   "source": [
    "**Important Note:** *Remember to respect user’s rights when you download copyrighted content. Do not use images/videos from Instagram for commercial intent.*"
   ]
  },
  {
   "cell_type": "markdown",
   "metadata": {},
   "source": [
    "### 1. Import dependencies\n",
    "\n",
    "Install non-standard libraries: requests, BeautifulSoup "
   ]
  },
  {
   "cell_type": "code",
   "execution_count": 4,
   "metadata": {},
   "outputs": [],
   "source": [
    "from random import choice\n",
    "import json\n",
    "\n",
    "# to install\n",
    "import requests\n",
    "from bs4 import BeautifulSoup"
   ]
  },
  {
   "cell_type": "markdown",
   "metadata": {},
   "source": [
    "### 2. Build InstagramScraper class\n",
    "based on: https://edmundmartin.com/scraping-instagram-with-python/"
   ]
  },
  {
   "cell_type": "markdown",
   "metadata": {},
   "source": [
    "Switching user agents is often a best practice when web scraping and can help you avoid detection. Should the caller of our class have provided their own list of user agents we take a random agent from the provided list.  Otherwise we will return our default user agent."
   ]
  },
  {
   "cell_type": "code",
   "execution_count": 6,
   "metadata": {},
   "outputs": [],
   "source": [
    "_user_agents = [\n",
    "    'Mozilla/5.0 (Windows NT 10.0; Win64; x64) AppleWebKit/537.36 (KHTML, like Gecko) Chrome/65.0.3325.181 Safari/537.36'\n",
    "]"
   ]
  },
  {
   "cell_type": "markdown",
   "metadata": {},
   "source": [
    "Define a class called InstagramScraper: "
   ]
  },
  {
   "cell_type": "code",
   "execution_count": 178,
   "metadata": {},
   "outputs": [],
   "source": [
    "class InstagramScraper:\n",
    "\n",
    "    def __init__(self, user_agents=None, proxy=None):\n",
    "        self.user_agents = user_agents\n",
    "        self.proxy = proxy\n",
    "\n",
    "    def __random_agent(self):\n",
    "        if self.user_agents and isinstance(self.user_agents, list):\n",
    "            return choice(self.user_agents)\n",
    "        return choice(_user_agents)\n",
    "\n",
    "    def __request_url(self, url):\n",
    "        \"\"\"Our second helper method is simply a wrapper around requests. \n",
    "        We pass in a URL and try to make a request using the provided user agent and proxy. \n",
    "        If we are unable to make the request or Instagram responds with a non-200 status code we simply re-raise the error. \n",
    "        If everything goes fine, we return the page in questions HTML.\"\"\"\n",
    "        try:\n",
    "            response = requests.get(url, headers={'User-Agent': self.__random_agent()}, proxies={'http': self.proxy,\n",
    "                                                                                                 'https': self.proxy})\n",
    "            response.raise_for_status()\n",
    "        except requests.HTTPError:\n",
    "            raise requests.HTTPError('Received non 200 status code from Instagram')\n",
    "        except requests.RequestException:\n",
    "            raise requests.RequestException\n",
    "        else:\n",
    "            return response.text\n",
    "\n",
    "\n",
    "    @staticmethod\n",
    "    def extract_json_data(html):\n",
    "        \"\"\"Instagram serve’s all the of information regarding a user in the form of JavaScript object. \n",
    "        This means that we can extract all of a users profile information and their recent posts by just \n",
    "        making a HTML request to their profile page. We simply need to turn this JavaScript object into \n",
    "        JSON, which is very easy to do.\"\"\"\n",
    "        soup = BeautifulSoup(html, 'html.parser')\n",
    "        body = soup.find('body')\n",
    "        script_tag = body.find('script')\n",
    "        raw_string = script_tag.text.strip().replace('window._sharedData =', '').replace(';', '')\n",
    "        return json.loads(raw_string)\n",
    "\n",
    "    def profile_page_metrics(self, profile_url):\n",
    "        results = {}\n",
    "        try:\n",
    "            response = self.__request_url(profile_url)\n",
    "            json_data = self.extract_json_data(response)\n",
    "            metrics = json_data['entry_data']['ProfilePage'][0]['graphql']['user']\n",
    "        except Exception as e:\n",
    "            raise e\n",
    "        else:\n",
    "            for key, value in metrics.items():\n",
    "                #print('key:', key, '-value:', value)\n",
    "                if key != 'edge_owner_to_timeline_media':\n",
    "                    if value and isinstance(value, dict):\n",
    "                        value = value['count']\n",
    "                        results[key] = value\n",
    "                    elif value:\n",
    "                        results[key] = value\n",
    "        return results\n",
    "\n",
    "    #TODO\n",
    "    def hash_page_metrics(self, profile_url):\n",
    "        results = {}\n",
    "        try:\n",
    "            response = self.__request_url(profile_url)\n",
    "            json_data = self.extract_json_data(response)\n",
    "            metrics = json_data['entry_data']['TagPage'][0]['graphql']['hashtag']\n",
    "         \n",
    "        except Exception as e:\n",
    "            raise e\n",
    "        else:\n",
    "            for key, value in metrics.items():\n",
    "                #print('metrics:', metrics)\n",
    "                if key != 'edge_hashtag_to_media' and key != 'edge_hashtag_to_top_posts' and key != 'profile_pic_url':\n",
    "                    results[key] = value\n",
    "                    if value and isinstance(value, dict):\n",
    "                        try: \n",
    "                            value = value['count']            \n",
    "                            results[key] = value\n",
    "                        except: \n",
    "                            results[key] = value\n",
    "                        try: \n",
    "                            sigma = []\n",
    "                            for i in range(0,5): \n",
    "                                #print(i)\n",
    "                                value = value['edges'][i]['node']['name']  \n",
    "                                #print(i)\n",
    "                            sigma.append(value)\n",
    "                            print(len(value['edges']['node']))\n",
    "                            \n",
    "                            #results[key] = sigma\n",
    "                        except: \n",
    "                            results[key] = value \n",
    "                    elif value:\n",
    "                        results[key] = value\n",
    "        return results\n",
    "    \n",
    "    def profile_page_posts(self, profile_url):\n",
    "        results = []\n",
    "        try:\n",
    "            response = self.__request_url(profile_url)\n",
    "            json_data = self.extract_json_data(response)\n",
    "            metrics = json_data['entry_data']['ProfilePage'][0]['graphql']['user']['edge_owner_to_timeline_media'][\"edges\"]\n",
    "            #pprint(metrics)\n",
    "        except Exception as e:\n",
    "            raise e\n",
    "        else:\n",
    "            for node in metrics:\n",
    "                node = node.get('node')\n",
    "                #if node and isinstance(node, dict): #this line only gets most recent post out\n",
    "                results.append(node)\n",
    "        return results\n",
    "    \n",
    "    def hashtag_page_posts(self, hashtag_url):\n",
    "        results = []\n",
    "        try:\n",
    "            response = self.__request_url(hashtag_url)\n",
    "            json_data = self.extract_json_data(response)\n",
    "            #pprint(json_data)\n",
    "            metrics = json_data['entry_data']['TagPage'][0]['graphql']['hashtag']['edge_hashtag_to_media'][\"edges\"]\n",
    "            #pprint(metrics)\n",
    "        except Exception as e:\n",
    "            raise e\n",
    "        else:\n",
    "            for node in metrics:\n",
    "                node = node.get('node')\n",
    "                #if node and isinstance(node, dict): #this line only gets most recent post out\n",
    "                results.append(node)\n",
    "        return results"
   ]
  },
  {
   "cell_type": "markdown",
   "metadata": {},
   "source": [
    "### 3. Specify Instagram page\n",
    "\n",
    "Specify instragram USERNAME profile whose page you want to scrape. Get a dictionary with all information (image, comments, etc.) from that Instagram profile. "
   ]
  },
  {
   "cell_type": "markdown",
   "metadata": {},
   "source": [
    "#### User-profile Page\n",
    "\n",
    "If you want to open a user-profile page, specify the username as:"
   ]
  },
  {
   "cell_type": "code",
   "execution_count": 110,
   "metadata": {},
   "outputs": [],
   "source": [
    "# to specify\n",
    "username='pickuplimes'\n",
    "hashtag = False\n",
    "url = 'https://www.instagram.com/'+username+'/?hl=en'"
   ]
  },
  {
   "cell_type": "markdown",
   "metadata": {},
   "source": [
    "#### Hashtag Page\n",
    "\n",
    "If you want to open a hashtag page (instead of a user profile): "
   ]
  },
  {
   "cell_type": "code",
   "execution_count": 115,
   "metadata": {},
   "outputs": [],
   "source": [
    "# to specify\n",
    "hashtag='swatch'\n",
    "username = False\n",
    "url = 'https://www.instagram.com/explore/tags/'+hashtag"
   ]
  },
  {
   "cell_type": "markdown",
   "metadata": {},
   "source": [
    "### 3. Get information from Instagram page\n",
    "\n",
    "Now that the url of the Instagram page is defined, it will extract out all the posts or meta-information from the website usinge the InstagramScraper class. \n",
    "\n",
    "Get meta-information metrics by using a class method. "
   ]
  },
  {
   "cell_type": "code",
   "execution_count": 114,
   "metadata": {},
   "outputs": [
    {
     "name": "stdout",
     "output_type": "stream",
     "text": [
      "{'biography': '🌱plant-based recipes & wholesome living \\n'\n",
      "              '🍒nourish the cells & the soul \\n'\n",
      "              '🌱a YouTube community of 2M friends 👩🏻\\u200d🌾\\n'\n",
      "              '👇 NEW VIDEO 👇',\n",
      " 'business_category_name': 'Publishers',\n",
      " 'category_id': '2707',\n",
      " 'edge_felix_video_timeline': 0,\n",
      " 'edge_follow': 127,\n",
      " 'edge_followed_by': 531071,\n",
      " 'edge_media_collections': 0,\n",
      " 'edge_mutual_followed_by': 0,\n",
      " 'edge_saved_media': 0,\n",
      " 'external_url': 'https://youtu.be/0Kgi-H2W7Hk',\n",
      " 'external_url_linkshimmed': 'https://l.instagram.com/?u=https%3A%2F%2Fyoutu.be%2F0Kgi-H2W7Hk&e=ATM5rZNI8I5aBiZz3RAszJWMkhflagAU_QiH_SQDII3ITWclaigcQbJHAT__clKn0V1x15eE&s=1',\n",
      " 'full_name': 'Sadia Badiei, BSc Dietetics',\n",
      " 'highlight_reel_count': 1,\n",
      " 'id': '2072931271',\n",
      " 'is_business_account': True,\n",
      " 'is_verified': True,\n",
      " 'profile_pic_url': 'https://instagram.fzrh2-1.fna.fbcdn.net/v/t51.2885-19/s150x150/84057956_823380854858266_527460638654464000_n.jpg?_nc_ht=instagram.fzrh2-1.fna.fbcdn.net&_nc_ohc=RvJ85_MOJB4AX_BHBpW&oh=b186936487509345806919d712d1c3fd&oe=5EAC5272',\n",
      " 'profile_pic_url_hd': 'https://instagram.fzrh2-1.fna.fbcdn.net/v/t51.2885-19/s320x320/84057956_823380854858266_527460638654464000_n.jpg?_nc_ht=instagram.fzrh2-1.fna.fbcdn.net&_nc_ohc=RvJ85_MOJB4AX_BHBpW&oh=73434471df87cec9e259b96c706cca41&oe=5EA954FD',\n",
      " 'username': 'pickuplimes'}\n"
     ]
    }
   ],
   "source": [
    "# get profile page metrics\n",
    "from pprint import pprint\n",
    "\n",
    "k = InstagramScraper()\n",
    "results = k.profile_page_metrics(url) \n",
    "pprint(results)"
   ]
  },
  {
   "cell_type": "code",
   "execution_count": 179,
   "metadata": {},
   "outputs": [],
   "source": [
    "# get hashtag page metrics\n",
    "from pprint import pprint\n",
    "\n",
    "k = InstagramScraper()\n",
    "#TODO\n",
    "results = k.hash_page_metrics(url) \n",
    "#pprint(results)"
   ]
  },
  {
   "cell_type": "markdown",
   "metadata": {},
   "source": [
    "Get all posts on an Instagram **profile page** that are visible on the landing page. "
   ]
  },
  {
   "cell_type": "code",
   "execution_count": 56,
   "metadata": {},
   "outputs": [
    {
     "name": "stdout",
     "output_type": "stream",
     "text": [
      "Posts on Instagram profile page:  12\n",
      "Second image url on instagram profile:  https://instagram.fzrh2-1.fna.fbcdn.net/v/t51.2885-15/e35/89830458_279055869752422_1934838557654693738_n.jpg?_nc_ht=instagram.fzrh2-1.fna.fbcdn.net&_nc_cat=110&_nc_ohc=TatfJYTxmiAAX_jXpLZ&oh=de7f6ba79434acf649c2664156bb8a2b&oe=5E837309\n"
     ]
    }
   ],
   "source": [
    "# get posts (images) from profile page \n",
    "from pprint import pprint\n",
    "\n",
    "\n",
    "k = InstagramScraper()\n",
    "results = k.profile_page_posts(url)\n",
    "\n",
    "print('Posts on Instagram profile page: ', len(results))\n",
    "print('Second image url on instagram profile: ', results[1]['display_url'])"
   ]
  },
  {
   "cell_type": "markdown",
   "metadata": {},
   "source": [
    "Get all posts on an Instagram **hashtag page** that are visible on the landing page. "
   ]
  },
  {
   "cell_type": "code",
   "execution_count": 58,
   "metadata": {},
   "outputs": [
    {
     "name": "stdout",
     "output_type": "stream",
     "text": [
      "Posts on Instagram profile page:  70\n",
      "Second image url on instagram profile:  https://instagram.fzrh2-1.fna.fbcdn.net/v/t51.2885-15/e35/s1080x1080/91390209_138245237708029_7195385645887789729_n.jpg?_nc_ht=instagram.fzrh2-1.fna.fbcdn.net&_nc_cat=101&_nc_ohc=2I9-8_vl0AYAX-Whws3&oh=2f77674f588a954ba4f0b3743e9fd603&oe=5EAB50DC\n"
     ]
    }
   ],
   "source": [
    "# get posts (images) from hashtag page \n",
    "from pprint import pprint\n",
    "\n",
    "\n",
    "k = InstagramScraper()\n",
    "results = k.hashtag_page_posts(url)\n",
    "\n",
    "#pprint(results)\n",
    "print('Posts on Instagram hashtag page: ', len(results))\n",
    "print('Second image url on instagram hashtag: ', results[1]['display_url'])"
   ]
  },
  {
   "cell_type": "markdown",
   "metadata": {},
   "source": [
    "### 4. Save images from list of dict: \n",
    "\n",
    "Use requests library to download images from the ‘display_url’ in pandas ‘result’ data frame and store them with respective shortcode as file name.\n",
    "\n",
    "Specify the directory for storing the images. "
   ]
  },
  {
   "cell_type": "code",
   "execution_count": 59,
   "metadata": {},
   "outputs": [],
   "source": [
    "# download all images from an Instagram page \n",
    "import os\n",
    "import requests\n",
    "import shutil\n",
    "\n",
    "# to specify\n",
    "directory= r\"C:\\Users\\Anonym\\Documents\\GitHub\\DLfM_BrandManagement\\images\"\n",
    "os.chdir(directory)\n",
    "\n",
    "if username: \n",
    "    os.mkdir(os.path.join(directory, username))\n",
    "    os.chdir(os.path.join(directory, username))\n",
    "elif hashtag: \n",
    "    os.mkdir(os.path.join(directory, hashtag))\n",
    "    os.chdir(os.path.join(directory, hashtag))\n",
    "\n",
    "for i in range(len(results)):\n",
    "    r = requests.get(results[i]['display_url'], stream=True)\n",
    "    with open(results[i]['shortcode']+\".jpg\", 'wb') as f:\n",
    "        # Set decode_content value to True, otherwise the downloaded image file's size will be zero.\n",
    "        r.raw.decode_content = True\n",
    "        # Copy the response stream raw data to local image file.\n",
    "        shutil.copyfileobj(r.raw, f)\n",
    "        # Remove the image url response object.\n",
    "        del r"
   ]
  },
  {
   "cell_type": "code",
   "execution_count": 43,
   "metadata": {},
   "outputs": [],
   "source": [
    "# download one image only\n",
    "import os\n",
    "import requests\n",
    "import shutil\n",
    "\n",
    "# to specify\n",
    "directory= r\"C:\\Users\\Anonym\\Documents\\GitHub\\DLfM_BrandManagement\\images\"\n",
    "os.chdir(directory)\n",
    "\n",
    "r = requests.get(url, stream=True)\n",
    "\n",
    "with open(directory+\"B-Tckr0AgrH\"+\".jpg\", 'wb') as f:\n",
    "    # Set decode_content value to True, otherwise the downloaded image file's size will be zero.\n",
    "    r.raw.decode_content = True\n",
    "    # Copy the response stream raw data to local image file.\n",
    "    shutil.copyfileobj(r.raw, f)\n",
    "    # Remove the image url response object.\n",
    "    del r"
   ]
  }
 ],
 "metadata": {
  "kernelspec": {
   "display_name": "Python 3",
   "language": "python",
   "name": "python3"
  },
  "language_info": {
   "codemirror_mode": {
    "name": "ipython",
    "version": 3
   },
   "file_extension": ".py",
   "mimetype": "text/x-python",
   "name": "python",
   "nbconvert_exporter": "python",
   "pygments_lexer": "ipython3",
   "version": "3.7.4"
  }
 },
 "nbformat": 4,
 "nbformat_minor": 2
}
