{
 "cells": [
  {
   "cell_type": "markdown",
   "metadata": {},
   "source": [
    "# Image Retrieval From Instagram\n",
    "\n",
    "\n",
    "Goal: collect image data from instagram and then preprocess it\n",
    "\n",
    "Image size: 224*224\n",
    "\n",
    "Resolution: \n",
    "\n",
    "Number of images: \n",
    "\n"
   ]
  },
  {
   "cell_type": "markdown",
   "metadata": {},
   "source": [
    "#### Websites: \n",
    "\n",
    "This notebook's code is based on the following tutorials: \n",
    "\n",
    "https://medium.com/@srujana.rao2/scraping-instagram-with-python-using-selenium-and-beautiful-soup-8b72c186a058\n",
    "\n",
    "https://edmundmartin.com/scraping-instagram-with-python/\n",
    "\n",
    "https://michaeljsanders.com/2017/05/12/scrapin-and-scrollin.html"
   ]
  },
  {
   "cell_type": "markdown",
   "metadata": {},
   "source": [
    "**Important Note:** *Remember to respect user’s rights when you download copyrighted content. Do not use images/videos from Instagram for commercial intent.*"
   ]
  },
  {
   "cell_type": "markdown",
   "metadata": {},
   "source": [
    "### 1. Import dependencies\n",
    "\n",
    "Pip Install selenium and download chrome driver from the following link http://chromedriver.chromium.org/. "
   ]
  },
  {
   "cell_type": "code",
   "execution_count": 1,
   "metadata": {},
   "outputs": [],
   "source": [
    "import time\n",
    "import re\n",
    "import json\n",
    "from pandas.io.json import json_normalize\n",
    "import pandas as pd, numpy as np\n",
    "\n",
    "# to install\n",
    "from selenium import webdriver\n",
    "from bs4 import BeautifulSoup as bs\n",
    "from urllib.request import urlopen"
   ]
  },
  {
   "cell_type": "markdown",
   "metadata": {},
   "source": [
    "### 2. Open the web browser: \n",
    "\n",
    "Selenium uses chrome driver to open the profile given a username (public user).\n",
    "\n",
    "Download the latest ChromeDriver that support your Chrome version from here: https://sites.google.com/a/chromium.org/chromedriver/downloads\n",
    "\n",
    "Then follow the steps shown below:\n",
    "\n",
    "1. Put the ChromeDriver executable in the same directory where you have this python script\n",
    "\n",
    "2. Add it to your system path\n",
    "\n",
    "3. Specify the location directly via executable_path\n"
   ]
  },
  {
   "cell_type": "code",
   "execution_count": 2,
   "metadata": {},
   "outputs": [],
   "source": [
    "# to specify\n",
    "browser = webdriver.Chrome('C:/Users/Anonym/Documents/GitHub/DLfM_BrandManagement/chromedriver.exe')"
   ]
  },
  {
   "cell_type": "markdown",
   "metadata": {},
   "source": [
    "By now, a new and empty Chrome window has popped up.\n",
    "\n",
    "#### User-profile Page\n",
    "\n",
    "If you want to open a user-profile page, specify the username as: "
   ]
  },
  {
   "cell_type": "code",
   "execution_count": 3,
   "metadata": {},
   "outputs": [],
   "source": [
    "# to specify\n",
    "username='pickuplimes'\n",
    "browser.get('https://www.instagram.com/'+username+'/?hl=en')"
   ]
  },
  {
   "cell_type": "markdown",
   "metadata": {},
   "source": [
    "The desired webpage loads in the empty Chrome window. "
   ]
  },
  {
   "cell_type": "code",
   "execution_count": 4,
   "metadata": {},
   "outputs": [],
   "source": [
    "Pagelength = browser.execute_script(\"window.scrollTo(0, document.body.scrollHeight);\")"
   ]
  },
  {
   "cell_type": "markdown",
   "metadata": {},
   "source": [
    "#### Hashtag Page\n",
    "\n",
    "If you want to open a hashtag page (instead of a user profile): "
   ]
  },
  {
   "cell_type": "code",
   "execution_count": 6,
   "metadata": {},
   "outputs": [],
   "source": [
    "# to specify\n",
    "hashtag='food'\n",
    "# to specify\n",
    "browser = webdriver.Chrome('C:/Users/Anonym/Documents/GitHub/DLfM_BrandManagement/chromedriver.exe')\n",
    "\n",
    "browser.get('https://www.instagram.com/explore/tags/'+hashtag)\n",
    "Pagelength = browser.execute_script(\"window.scrollTo(0, document.body.scrollHeight);\")"
   ]
  },
  {
   "cell_type": "markdown",
   "metadata": {},
   "source": [
    "### 3. Parse HTML source page: \n",
    "\n",
    "Open the source page and use beautiful soup to parse it. Go through the body of html script and **extract a link for each image in that page** and pass it to an empty list ‘links[]’."
   ]
  },
  {
   "cell_type": "code",
   "execution_count": 5,
   "metadata": {},
   "outputs": [],
   "source": [
    "#Extract links from user profile page\n",
    "links=[]\n",
    "source = browser.page_source\n",
    "data=bs(source, 'html.parser')\n",
    "body = data.find('body')\n",
    "script = body.find('script', text=lambda t: t.startswith('window._sharedData'))\n",
    "page_json = script.text.split(' = ', 1)[1].rstrip(';')\n",
    "data = json.loads(page_json)\n",
    "for link in data['entry_data']['ProfilePage'][0]['graphql']['user']['edge_owner_to_timeline_media']['edges']:\n",
    "    links.append('https://www.instagram.com'+'/p/'+link['node']['shortcode']+'/')"
   ]
  },
  {
   "cell_type": "code",
   "execution_count": 73,
   "metadata": {},
   "outputs": [
    {
     "data": {
      "text/plain": [
       "12"
      ]
     },
     "execution_count": 73,
     "metadata": {},
     "output_type": "execute_result"
    }
   ],
   "source": [
    "# check out links list \n",
    "len(links)"
   ]
  },
  {
   "cell_type": "code",
   "execution_count": null,
   "metadata": {},
   "outputs": [],
   "source": [
    "#Extract links from hashtag page\n",
    "links=[]\n",
    "source = browser.page_source\n",
    "data=bs(source, 'html.parser')\n",
    "body = data.find('body')\n",
    "script = body.find('script', text=lambda t: t.startswith('window._sharedData'))\n",
    "page_json = script.text.split(' = ', 1)[1].rstrip(';')\n",
    "data = json.loads(page_json)\n",
    "for link in data['entry_data']['TagPage'][0]['graphql']['hashtag']['edge_hashtag_to_media']['edges']:\n",
    "    links.append('https://www.instagram.com'+'/p/'+link['node']['shortcode']+'/')"
   ]
  },
  {
   "cell_type": "markdown",
   "metadata": {},
   "source": [
    "### How you can extract information (number of followers, image files) from a users Instagram profile: \n",
    "\n",
    "based on: https://edmundmartin.com/scraping-instagram-with-python/\n",
    "\n",
    "Install non-standard libraries: requests, BeautifulSoup"
   ]
  },
  {
   "cell_type": "code",
   "execution_count": 7,
   "metadata": {},
   "outputs": [],
   "source": [
    "from random import choice\n",
    "import json\n",
    "\n",
    "# to install\n",
    "import requests\n",
    "from bs4 import BeautifulSoup"
   ]
  },
  {
   "cell_type": "markdown",
   "metadata": {},
   "source": [
    "Switching user agents is often a best practice when web scraping and can help you avoid detection. Should the caller of our class have provided their own list of user agents we take a random agent from the provided list.  Otherwise we will return our default user agent."
   ]
  },
  {
   "cell_type": "code",
   "execution_count": 8,
   "metadata": {},
   "outputs": [],
   "source": [
    "_user_agents = [\n",
    "    'Mozilla/5.0 (Windows NT 10.0; Win64; x64) AppleWebKit/537.36 (KHTML, like Gecko) Chrome/65.0.3325.181 Safari/537.36'\n",
    "]"
   ]
  },
  {
   "cell_type": "markdown",
   "metadata": {},
   "source": [
    "Define a class called InstagramScraper: "
   ]
  },
  {
   "cell_type": "code",
   "execution_count": 64,
   "metadata": {},
   "outputs": [],
   "source": [
    "class InstagramScraper:\n",
    "\n",
    "    def __init__(self, user_agents=None, proxy=None):\n",
    "        self.user_agents = user_agents\n",
    "        self.proxy = proxy\n",
    "\n",
    "    def __random_agent(self):\n",
    "        if self.user_agents and isinstance(self.user_agents, list):\n",
    "            return choice(self.user_agents)\n",
    "        return choice(_user_agents)\n",
    "\n",
    "    def __request_url(self, url):\n",
    "        \"\"\"Our second helper method is simply a wrapper around requests. \n",
    "        We pass in a URL and try to make a request using the provided user agent and proxy. \n",
    "        If we are unable to make the request or Instagram responds with a non-200 status code we simply re-raise the error. \n",
    "        If everything goes fine, we return the page in questions HTML.\"\"\"\n",
    "        try:\n",
    "            response = requests.get(url, headers={'User-Agent': self.__random_agent()}, proxies={'http': self.proxy,\n",
    "                                                                                                 'https': self.proxy})\n",
    "            response.raise_for_status()\n",
    "        except requests.HTTPError:\n",
    "            raise requests.HTTPError('Received non 200 status code from Instagram')\n",
    "        except requests.RequestException:\n",
    "            raise requests.RequestException\n",
    "        else:\n",
    "            return response.text\n",
    "\n",
    "\n",
    "    @staticmethod\n",
    "    def extract_json_data(html):\n",
    "        \"\"\"Instagram serve’s all the of information regarding a user in the form of JavaScript object. \n",
    "        This means that we can extract all of a users profile information and their recent posts by just \n",
    "        making a HTML request to their profile page. We simply need to turn this JavaScript object into \n",
    "        JSON, which is very easy to do.\"\"\"\n",
    "        soup = BeautifulSoup(html, 'html.parser')\n",
    "        body = soup.find('body')\n",
    "        script_tag = body.find('script')\n",
    "        raw_string = script_tag.text.strip().replace('window._sharedData =', '').replace(';', '')\n",
    "        return json.loads(raw_string)\n",
    "\n",
    "    def profile_page_metrics(self, profile_url):\n",
    "        results = {}\n",
    "        try:\n",
    "            response = self.__request_url(profile_url)\n",
    "            json_data = self.extract_json_data(response)\n",
    "            metrics = json_data['entry_data']['ProfilePage'][0]['graphql']['user']\n",
    "        except Exception as e:\n",
    "            raise e\n",
    "        else:\n",
    "            for key, value in metrics.items():\n",
    "                if key != 'edge_owner_to_timeline_media':\n",
    "                    if value and isinstance(value, dict):\n",
    "                        value = value['count']\n",
    "                        results[key] = value\n",
    "                    elif value:\n",
    "                        results[key] = value\n",
    "        return results\n",
    "\n",
    "    def profile_page_posts(self, profile_url):\n",
    "        results = []\n",
    "        try:\n",
    "            response = self.__request_url(profile_url)\n",
    "            json_data = self.extract_json_data(response)\n",
    "            metrics = json_data['entry_data']['ProfilePage'][0]['graphql']['user']['edge_owner_to_timeline_media'][\"edges\"]\n",
    "            #pprint(metrics)\n",
    "        except Exception as e:\n",
    "            raise e\n",
    "        else:\n",
    "            for node in metrics:\n",
    "                node = node.get('node')\n",
    "                #if node and isinstance(node, dict): #this line only gets most recent post out\n",
    "                results.append(node)\n",
    "        return results"
   ]
  },
  {
   "cell_type": "markdown",
   "metadata": {},
   "source": [
    "Specify instragram USERNAME profile whose page you want to scrape. Get a dictionary with all information (image, comments, etc.) from that Instagram profile. "
   ]
  },
  {
   "cell_type": "code",
   "execution_count": 68,
   "metadata": {},
   "outputs": [
    {
     "name": "stdout",
     "output_type": "stream",
     "text": [
      "Posts on Instagram profile page:  12\n",
      "'https://instagram.fzrh2-1.fna.fbcdn.net/v/t51.2885-15/e35/89830458_279055869752422_1934838557654693738_n.jpg?_nc_ht=instagram.fzrh2-1.fna.fbcdn.net&_nc_cat=110&_nc_ohc=TatfJYTxmiAAX_jXpLZ&oh=27788c795031ee04f31919525f5b98a0&oe=5E82CA49'\n"
     ]
    }
   ],
   "source": [
    "# get posts (images) from profile page \n",
    "from pprint import pprint\n",
    "\n",
    "# to specify\n",
    "username='pickuplimes'\n",
    "url = 'https://www.instagram.com/'+username+'/?hl=en'\n",
    "\n",
    "k = InstagramScraper()\n",
    "results = k.profile_page_posts(url)\n",
    "\n",
    "print('Posts on Instagram profile page: ', len(results))\n",
    "pprint(results[1]['display_url'])"
   ]
  },
  {
   "cell_type": "code",
   "execution_count": 41,
   "metadata": {},
   "outputs": [],
   "source": [
    "# get profile page metrics\n",
    "from pprint import pprint\n",
    "\n",
    "# to specify\n",
    "username='pickuplimes'\n",
    "url = 'https://www.instagram.com/'+username+'/?hl=en'\n",
    "\n",
    "k = InstagramScraper()\n",
    "results = k.profile_page_metrics(url) # only the most recently uploaded image \n",
    "#pprint(results)"
   ]
  },
  {
   "cell_type": "markdown",
   "metadata": {},
   "source": [
    "### 5. Save images from list of dict: \n",
    "\n",
    "Use requests library to download images from the ‘display_url’ in pandas ‘result’ data frame and store them with respective shortcode as file name.\n",
    "\n",
    "Specify the directory for storing the images. "
   ]
  },
  {
   "cell_type": "code",
   "execution_count": 72,
   "metadata": {},
   "outputs": [],
   "source": [
    "# download all images from an Instagram page \n",
    "import os\n",
    "import requests\n",
    "import shutil\n",
    "\n",
    "# to specify\n",
    "directory= r\"C:\\Users\\Anonym\\Documents\\GitHub\\DLfM_BrandManagement\\images\"\n",
    "os.chdir(directory)\n",
    "\n",
    "for i in range(len(results)):\n",
    "    r = requests.get(results[i]['display_url'], stream=True)\n",
    "    with open(results[i]['shortcode']+\".jpg\", 'wb') as f:\n",
    "        # Set decode_content value to True, otherwise the downloaded image file's size will be zero.\n",
    "        r.raw.decode_content = True\n",
    "        # Copy the response stream raw data to local image file.\n",
    "        shutil.copyfileobj(r.raw, f)\n",
    "        # Remove the image url response object.\n",
    "        del r"
   ]
  },
  {
   "cell_type": "code",
   "execution_count": 43,
   "metadata": {},
   "outputs": [],
   "source": [
    "# download one image only\n",
    "import os\n",
    "import requests\n",
    "import shutil\n",
    "\n",
    "# to specify\n",
    "directory= r\"C:\\Users\\Anonym\\Documents\\GitHub\\DLfM_BrandManagement\\images\"\n",
    "os.chdir(directory)\n",
    "\n",
    "r = requests.get(url, stream=True)\n",
    "\n",
    "with open(directory+\"B-Tckr0AgrH\"+\".jpg\", 'wb') as f:\n",
    "    # Set decode_content value to True, otherwise the downloaded image file's size will be zero.\n",
    "    r.raw.decode_content = True\n",
    "    # Copy the response stream raw data to local image file.\n",
    "    shutil.copyfileobj(r.raw, f)\n",
    "    # Remove the image url response object.\n",
    "    del r"
   ]
  }
 ],
 "metadata": {
  "kernelspec": {
   "display_name": "Python 3",
   "language": "python",
   "name": "python3"
  },
  "language_info": {
   "codemirror_mode": {
    "name": "ipython",
    "version": 3
   },
   "file_extension": ".py",
   "mimetype": "text/x-python",
   "name": "python",
   "nbconvert_exporter": "python",
   "pygments_lexer": "ipython3",
   "version": "3.7.4"
  }
 },
 "nbformat": 4,
 "nbformat_minor": 2
}
