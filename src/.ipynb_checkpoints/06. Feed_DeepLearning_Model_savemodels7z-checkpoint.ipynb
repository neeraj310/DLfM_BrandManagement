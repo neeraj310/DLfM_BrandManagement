{
 "cells": [
  {
   "cell_type": "markdown",
   "metadata": {},
   "source": [
    "# Feeding the DeepL model "
   ]
  },
  {
   "cell_type": "markdown",
   "metadata": {},
   "source": [
    "based on: \n",
    "\n",
    "https://keras.io/preprocessing/image/\n",
    "\n",
    "https://blog.keras.io/building-powerful-image-classification-models-using-very-little-data.html"
   ]
  },
  {
   "cell_type": "markdown",
   "metadata": {},
   "source": [
    "## Load Model"
   ]
  },
  {
   "cell_type": "markdown",
   "metadata": {},
   "source": [
    "Imports and Data Preprocessing have to be executed, then the loaded model can be used for the Testing and Visualisation steps"
   ]
  },
  {
   "cell_type": "code",
   "execution_count": 1,
   "metadata": {},
   "outputs": [
    {
     "name": "stderr",
     "output_type": "stream",
     "text": [
      "Using TensorFlow backend.\n"
     ]
    }
   ],
   "source": [
    "# load modules \n",
    "import os\n",
    "from keras.models import load_model\n",
    "\n",
    "#specify directory\n",
    "os.chdir(r'C:\\Users\\Anonym\\Documents\\GitHub\\DLfM_BrandManagement\\model')"
   ]
  },
  {
   "cell_type": "code",
   "execution_count": 2,
   "metadata": {
    "scrolled": true
   },
   "outputs": [],
   "source": [
    "#Load 4 models\n",
    "num_attributes = 4\n",
    "model = [[] for i in range(num_attributes)]\n",
    "model[0] = load_model('savemodels/glamorous_model.h5')\n",
    "model[1] = load_model('savemodels/rugged_model.h5')\n",
    "model[2] = load_model('savemodels/fun_model.h5')\n",
    "model[3] = load_model('savemodels/healthy_model.h5')"
   ]
  },
  {
   "cell_type": "code",
   "execution_count": 3,
   "metadata": {
    "scrolled": false
   },
   "outputs": [
    {
     "name": "stdout",
     "output_type": "stream",
     "text": [
      "Model: \"sequential_3\"\n",
      "_________________________________________________________________\n",
      "Layer (type)                 Output Shape              Param #   \n",
      "=================================================================\n",
      "model_1 (Model)              (None, 204800)            23587712  \n",
      "_________________________________________________________________\n",
      "dense_1 (Dense)              (None, 64)                13107264  \n",
      "_________________________________________________________________\n",
      "dropout_1 (Dropout)          (None, 64)                0         \n",
      "_________________________________________________________________\n",
      "dense_2 (Dense)              (None, 64)                4160      \n",
      "_________________________________________________________________\n",
      "dropout_2 (Dropout)          (None, 64)                0         \n",
      "_________________________________________________________________\n",
      "dense_3 (Dense)              (None, 1)                 65        \n",
      "=================================================================\n",
      "Total params: 36,699,201\n",
      "Trainable params: 13,111,489\n",
      "Non-trainable params: 23,587,712\n",
      "_________________________________________________________________\n",
      "None\n"
     ]
    }
   ],
   "source": [
    "print(model[0].summary())"
   ]
  },
  {
   "cell_type": "markdown",
   "metadata": {},
   "source": [
    "## Load Data"
   ]
  },
  {
   "cell_type": "code",
   "execution_count": 4,
   "metadata": {},
   "outputs": [],
   "source": [
    "#specify directory\n",
    "import os\n",
    "os.chdir('C:\\\\Users\\\\Anonym\\\\Documents\\\\GitHub\\\\DLfM_BrandManagement')"
   ]
  },
  {
   "cell_type": "code",
   "execution_count": 5,
   "metadata": {},
   "outputs": [],
   "source": [
    "import numpy as np\n",
    "npimgs = np.load('data/instagram_images/margotrobbie_official_npimgs.npy')"
   ]
  },
  {
   "cell_type": "code",
   "execution_count": 6,
   "metadata": {},
   "outputs": [
    {
     "data": {
      "text/plain": [
       "(12, 300, 300, 3)"
      ]
     },
     "execution_count": 6,
     "metadata": {},
     "output_type": "execute_result"
    }
   ],
   "source": [
    "npimgs.shape"
   ]
  },
  {
   "cell_type": "code",
   "execution_count": 7,
   "metadata": {},
   "outputs": [
    {
     "name": "stderr",
     "output_type": "stream",
     "text": [
      "Clipping input data to the valid range for imshow with RGB data ([0..1] for floats or [0..255] for integers).\n"
     ]
    },
    {
     "name": "stdout",
     "output_type": "stream",
     "text": [
      "First image: \n"
     ]
    },
    {
     "data": {
      "text/plain": [
       "<matplotlib.image.AxesImage at 0x21c54d1fc48>"
      ]
     },
     "execution_count": 7,
     "metadata": {},
     "output_type": "execute_result"
    }
   ],
   "source": [
    "import matplotlib.pyplot as plt\n",
    "print('First image: ')\n",
    "plt.imshow(npimgs[0])"
   ]
  },
  {
   "cell_type": "markdown",
   "metadata": {},
   "source": [
    "## Feed Model\n",
    "\n",
    "Caution: model can only get model error/accuracy if it gets the error between predicted and true labels, and for test data we do not have true labels only predicted labels"
   ]
  },
  {
   "cell_type": "code",
   "execution_count": 8,
   "metadata": {},
   "outputs": [],
   "source": [
    "X_test = npimgs"
   ]
  },
  {
   "cell_type": "code",
   "execution_count": 9,
   "metadata": {},
   "outputs": [],
   "source": [
    "'''\n",
    " Take as input probability output of 3 classfiers coressponding to each class( We have 3 classes and\n",
    " one classfier corresponding to each class )\n",
    " Predict the class label which have the highest probability\n",
    " Return the class label corresponding to class which have highest probablity\n",
    "'''\n",
    "def give_ovr_class_label_output(y_pred):\n",
    "    '''\n",
    "    Stack 4 probabilities to get a numpy array\n",
    "    '''\n",
    "    yclass= np.hstack((y_pred[0], y_pred[1],y_pred[2],y_pred[3]))\n",
    "       \n",
    "    y_class = np.array( yclass )\n",
    "    '''\n",
    "    Get the index corresponding to the max value of column\n",
    "    '''\n",
    "    idx = np.argmax(y_class, axis=-1)\n",
    "    y_class = np.zeros(y_class.shape )\n",
    "    '''\n",
    "    Convert the one hot position into class label\n",
    "    '''\n",
    "    y_class[ np.arange(y_class.shape[0]), idx] = 1\n",
    "    y_train_pred = np.argmax(y_class, axis=1)\n",
    "    return y_train_pred"
   ]
  },
  {
   "cell_type": "code",
   "execution_count": null,
   "metadata": {},
   "outputs": [],
   "source": [
    "# create an empty list\n",
    "\n",
    "y_pred = [[] for i in range(num_attributes)]\n",
    "num_attributes  = 4 \n",
    "\n",
    "for i in range(num_attributes):\n",
    "    y_pred[i] = model[i].predict(X_test)\n",
    "\n",
    "y_pred_label = give_ovr_class_label_output(y_pred)\n"
   ]
  },
  {
   "cell_type": "markdown",
   "metadata": {},
   "source": [
    "## Model Results"
   ]
  },
  {
   "cell_type": "code",
   "execution_count": null,
   "metadata": {},
   "outputs": [],
   "source": [
    "# encoded label \n",
    "y_pred_lst = y_pred_label.tolist()\n",
    "print(y_pred_lst)\n",
    "len(y_pred_lst)"
   ]
  },
  {
   "cell_type": "code",
   "execution_count": null,
   "metadata": {},
   "outputs": [],
   "source": [
    "# map back to original label name \n",
    "code2label = {0: 'glamorous', 1: 'rugged',2: 'fun',3: 'healthy'}\n",
    "y_pred_lbnm = map(code2label.get, y_pred_lst)\n",
    "y_pred_lbnm = list(y_pred_lbnm)\n",
    "print(y_pred_lbnm)"
   ]
  },
  {
   "cell_type": "markdown",
   "metadata": {},
   "source": [
    "## Label to Images\n",
    "\n",
    "there is not y_true, so we need to manually assess the quality of the categorization"
   ]
  },
  {
   "cell_type": "code",
   "execution_count": null,
   "metadata": {},
   "outputs": [],
   "source": [
    "#specify directory\n",
    "import os\n",
    "os.chdir('C:\\\\Users\\\\Anonym\\\\Documents\\\\GitHub\\\\DLfM_BrandManagement\\\\data\\\\instagram_images\\\\margotrobbie')"
   ]
  },
  {
   "cell_type": "code",
   "execution_count": null,
   "metadata": {},
   "outputs": [],
   "source": [
    "# load images and put labels in the title, plot here for assessment \n",
    "\n",
    "# load modules\n",
    "from skimage.io import imread_collection\n",
    "import matplotlib.pyplot as plt\n",
    "import matplotlib.image as mpimg\n",
    "#%matplotlib inline\n",
    "\n",
    "#your path \n",
    "images_dir = 'official/*.png'\n",
    "\n",
    "#creating a collection with the available images\n",
    "images = imread_collection(images_dir)\n",
    "\n",
    "fig = plt.figure(figsize=(60,60))\n",
    "for image in range(len(images)): \n",
    "    a = fig.add_subplot(len(images), 1, image+1)\n",
    "    imgplot = plt.imshow(images[image])\n",
    "    a.set_title(f'{y_pred_lbnm[image]}')\n",
    "    plt.axis('off')\n"
   ]
  },
  {
   "cell_type": "markdown",
   "metadata": {},
   "source": [
    "## Run Statistics"
   ]
  },
  {
   "cell_type": "code",
   "execution_count": null,
   "metadata": {},
   "outputs": [],
   "source": [
    "import pandas as pd\n",
    "df = pd.Series(y_pred_lbnm).value_counts() \n",
    "print(df) "
   ]
  },
  {
   "cell_type": "code",
   "execution_count": null,
   "metadata": {},
   "outputs": [],
   "source": [
    "df = pd.Series(y_pred_lbnm).value_counts()       \n",
    "print(round(df / len(y_pred_lbnm)*100, 2) )"
   ]
  },
  {
   "cell_type": "code",
   "execution_count": null,
   "metadata": {},
   "outputs": [],
   "source": []
  }
 ],
 "metadata": {
  "kernelspec": {
   "display_name": "Python 3",
   "language": "python",
   "name": "python3"
  },
  "language_info": {
   "codemirror_mode": {
    "name": "ipython",
    "version": 3
   },
   "file_extension": ".py",
   "mimetype": "text/x-python",
   "name": "python",
   "nbconvert_exporter": "python",
   "pygments_lexer": "ipython3",
   "version": "3.7.4"
  }
 },
 "nbformat": 4,
 "nbformat_minor": 2
}
