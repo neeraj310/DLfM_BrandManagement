{
 "cells": [
  {
   "cell_type": "markdown",
   "metadata": {},
   "source": [
    "# Feeding the DeepL model "
   ]
  },
  {
   "cell_type": "markdown",
   "metadata": {},
   "source": [
    "based on: \n",
    "\n",
    "https://keras.io/preprocessing/image/\n",
    "\n",
    "https://blog.keras.io/building-powerful-image-classification-models-using-very-little-data.html"
   ]
  },
  {
   "cell_type": "markdown",
   "metadata": {},
   "source": [
    "## Load Model"
   ]
  },
  {
   "cell_type": "markdown",
   "metadata": {},
   "source": [
    "Imports and Data Preprocessing have to be executed, then the loaded model can be used for the Testing and Visualisation steps"
   ]
  },
  {
   "cell_type": "code",
   "execution_count": 1,
   "metadata": {},
   "outputs": [
    {
     "name": "stderr",
     "output_type": "stream",
     "text": [
      "Using TensorFlow backend.\n"
     ]
    }
   ],
   "source": [
    "# load modules \n",
    "import os\n",
    "from keras.models import load_model\n",
    "\n",
    "#specify directory\n",
    "os.chdir('C:\\\\Users\\\\lsamsi\\\\Documents\\\\GitHub\\\\DLfM_BrandManagement')"
   ]
  },
  {
   "cell_type": "code",
   "execution_count": 2,
   "metadata": {},
   "outputs": [],
   "source": [
    "model = load_model('./model/demo_model2.h5')"
   ]
  },
  {
   "cell_type": "code",
   "execution_count": 3,
   "metadata": {
    "scrolled": false
   },
   "outputs": [
    {
     "name": "stdout",
     "output_type": "stream",
     "text": [
      "Model: \"sequential_5\"\n",
      "_________________________________________________________________\n",
      "Layer (type)                 Output Shape              Param #   \n",
      "=================================================================\n",
      "model_4 (Model)              (None, 204800)            23587712  \n",
      "_________________________________________________________________\n",
      "dense_9 (Dense)              (None, 64)                13107264  \n",
      "_________________________________________________________________\n",
      "dropout_5 (Dropout)          (None, 64)                0         \n",
      "_________________________________________________________________\n",
      "dense_10 (Dense)             (None, 5)                 325       \n",
      "=================================================================\n",
      "Total params: 36,695,301\n",
      "Trainable params: 13,107,589\n",
      "Non-trainable params: 23,587,712\n",
      "_________________________________________________________________\n",
      "None\n"
     ]
    }
   ],
   "source": [
    "print(model.summary())"
   ]
  },
  {
   "cell_type": "markdown",
   "metadata": {},
   "source": [
    "## Load Data"
   ]
  },
  {
   "cell_type": "code",
   "execution_count": 4,
   "metadata": {},
   "outputs": [],
   "source": [
    "#specify directory\n",
    "import os\n",
    "os.chdir('C:\\\\Users\\\\lsamsi\\\\Documents\\\\GitHub\\\\DLfM_BrandManagement')"
   ]
  },
  {
   "cell_type": "code",
   "execution_count": 5,
   "metadata": {},
   "outputs": [],
   "source": [
    "import numpy as np\n",
    "npimgs = np.load('data/instagram_images/sanpellegrino_official_npimgs.npy')"
   ]
  },
  {
   "cell_type": "code",
   "execution_count": 6,
   "metadata": {},
   "outputs": [
    {
     "data": {
      "text/plain": [
       "(12, 300, 300, 3)"
      ]
     },
     "execution_count": 6,
     "metadata": {},
     "output_type": "execute_result"
    }
   ],
   "source": [
    "npimgs.shape"
   ]
  },
  {
   "cell_type": "markdown",
   "metadata": {},
   "source": [
    "## Feed Model"
   ]
  },
  {
   "cell_type": "code",
   "execution_count": 7,
   "metadata": {},
   "outputs": [],
   "source": [
    "X_test = npimgs"
   ]
  },
  {
   "cell_type": "code",
   "execution_count": 11,
   "metadata": {
    "scrolled": true
   },
   "outputs": [],
   "source": [
    "y_pred = model.predict(X_test)"
   ]
  },
  {
   "cell_type": "code",
   "execution_count": 9,
   "metadata": {},
   "outputs": [],
   "source": [
    "# functions\n",
    "def probabilty_to_classencoding(y_pred):\n",
    "        \"\"\"\n",
    "        Output of softmax is probability distribution, \n",
    "        But we need the one hot encoding vector based on the class of \n",
    "        highest probabilty. \n",
    "        This function converts output of sigmoid to output class one hot encoding form\n",
    "        \"\"\"\n",
    "        y_class = np.array( y_pred )\n",
    "        idx = np.argmax(y_class, axis=-1)\n",
    "        y_class = np.zeros(y_class.shape )\n",
    "        y_class[ np.arange(y_class.shape[0]), idx] = 1\n",
    "        return y_class\n",
    "def binary_class_to_label(binary_class):\n",
    "        \"\"\"\n",
    "        Return the class value based on the one hot encoding vector\n",
    "        \"\"\"\n",
    "        return(np.argmax(binary_class, axis=1))   "
   ]
  },
  {
   "cell_type": "code",
   "execution_count": 12,
   "metadata": {},
   "outputs": [
    {
     "name": "stdout",
     "output_type": "stream",
     "text": [
      "<class 'numpy.ndarray'>\n"
     ]
    }
   ],
   "source": [
    "from sklearn.preprocessing import LabelEncoder\n",
    "\n",
    "# convert from encoded label to label name \n",
    "label_encoder = LabelEncoder()\n",
    "y_pred = probabilty_to_classencoding(y_pred)\n",
    "y_pred = binary_class_to_label(y_pred)\n",
    "#y_pred_labels = label_encoder.inverse_transform(y_pred)\n",
    "print(y_pred)"
   ]
  },
  {
   "cell_type": "code",
   "execution_count": 35,
   "metadata": {},
   "outputs": [
    {
     "name": "stdout",
     "output_type": "stream",
     "text": [
      "[0, 0, 0, 1, 0, 2, 0, 0, 0, 0, 0, 0]\n"
     ]
    }
   ],
   "source": [
    "# encoded label \n",
    "y_pred_lst = y_pred.tolist()\n",
    "print(y_pred_lst)"
   ]
  },
  {
   "cell_type": "code",
   "execution_count": 26,
   "metadata": {},
   "outputs": [
    {
     "name": "stdout",
     "output_type": "stream",
     "text": [
      "['fun', 'fun', 'fun', 'glamarous', 'fun', 'healthy', 'fun', 'fun', 'fun', 'fun', 'fun', 'fun']\n"
     ]
    }
   ],
   "source": [
    "# map back to original label name \n",
    "code2label = {0: 'fun', 1: 'glamarous',2: 'healthy',3: 'negative'}\n",
    "y_pred_lbnm = map(code2label.get, y_pred_lst)\n",
    "y_pred_lbnm = list(y_pred_lbnm)\n",
    "print(y_pred_lbnm)"
   ]
  },
  {
   "cell_type": "markdown",
   "metadata": {},
   "source": [
    "## Label to Images\n",
    "\n",
    "there is not y_true, so we need to manually assess the quality of the categorization"
   ]
  },
  {
   "cell_type": "code",
   "execution_count": null,
   "metadata": {},
   "outputs": [],
   "source": [
    "#specify directory\n",
    "import os\n",
    "os.chdir('C:\\\\Users\\\\lsamsi\\\\Documents\\\\GitHub\\\\DLfM_BrandManagement\\\\data\\\\instagram_images\\\\sanpellegrino\\\\official')"
   ]
  },
  {
   "cell_type": "code",
   "execution_count": 36,
   "metadata": {},
   "outputs": [],
   "source": [
    "# TODO \n",
    "# load images and put labels in the title, plot here for assessment "
   ]
  },
  {
   "cell_type": "markdown",
   "metadata": {},
   "source": [
    "## Run Statistics"
   ]
  },
  {
   "cell_type": "code",
   "execution_count": 27,
   "metadata": {},
   "outputs": [
    {
     "name": "stdout",
     "output_type": "stream",
     "text": [
      "fun          10\n",
      "healthy       1\n",
      "glamarous     1\n",
      "dtype: int64\n"
     ]
    }
   ],
   "source": [
    "import pandas as pd\n",
    "df = pd.Series(y_pred_lbnm).value_counts() \n",
    "print(df) "
   ]
  },
  {
   "cell_type": "code",
   "execution_count": 33,
   "metadata": {},
   "outputs": [
    {
     "name": "stdout",
     "output_type": "stream",
     "text": [
      "fun          83.33\n",
      "healthy       8.33\n",
      "glamarous     8.33\n",
      "dtype: float64\n"
     ]
    }
   ],
   "source": [
    "df = pd.Series(y_pred_lbnm).value_counts()       \n",
    "print(round(df / len(y_pred_lbnm)*100, 2) )"
   ]
  }
 ],
 "metadata": {
  "kernelspec": {
   "display_name": "Python 3",
   "language": "python",
   "name": "python3"
  },
  "language_info": {
   "codemirror_mode": {
    "name": "ipython",
    "version": 3
   },
   "file_extension": ".py",
   "mimetype": "text/x-python",
   "name": "python",
   "nbconvert_exporter": "python",
   "pygments_lexer": "ipython3",
   "version": "3.7.6"
  }
 },
 "nbformat": 4,
 "nbformat_minor": 2
}
