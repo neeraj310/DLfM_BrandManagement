{
 "cells": [
  {
   "cell_type": "markdown",
   "metadata": {},
   "source": [
    "# Image Retrieval From Instagram\n",
    "\n",
    "**Goal:** collect image data from instagram and then preprocess it, extract information (image files) from a user's Instagram profile\n",
    "\n",
    "**Constraints:** the user has no way of setting the image size (in KB), the resolution (1080x1080) of the images found on Instagram. The images are extracted from the Instagram page in raw form.  "
   ]
  },
  {
   "cell_type": "markdown",
   "metadata": {},
   "source": [
    "#### Websites: \n",
    "\n",
    "This notebook's code is based on the following tutorials: \n",
    "\n",
    "https://medium.com/@srujana.rao2/scraping-instagram-with-python-using-selenium-and-beautiful-soup-8b72c186a058\n",
    "\n",
    "https://edmundmartin.com/scraping-instagram-with-python/\n",
    "\n",
    "https://michaeljsanders.com/2017/05/12/scrapin-and-scrollin.html"
   ]
  },
  {
   "cell_type": "markdown",
   "metadata": {},
   "source": [
    "**Important Note:** *Remember to respect user’s rights when you download copyrighted content. Do not use images/videos from Instagram for commercial intent.*"
   ]
  },
  {
   "cell_type": "markdown",
   "metadata": {},
   "source": [
    "### 1. Import dependencies\n",
    "\n",
    "Install non-standard libraries: requests, BeautifulSoup "
   ]
  },
  {
   "cell_type": "code",

   "execution_count": 1,
=======
   "execution_count": 9,

   "metadata": {},
   "outputs": [],
   "source": [
    "import os\n",
    "from random import choice\n",
    "import json\n",
    "import pandas as pd\n",
    "import csv\n",
    "\n",
    "# to install\n",
    "import requests\n",
    "from bs4 import BeautifulSoup\n",
    "import bs4"
   ]
  },
  {
   "cell_type": "code",
   "execution_count": 17,
   "metadata": {},
   "outputs": [
    {
     "data": {
      "text/plain": [
       "'4.8.0'"
      ]
     },
     "execution_count": 17,
     "metadata": {},
     "output_type": "execute_result"
    }
   ],
   "source": [
    "bs4.__version__"
   ]
  },
  {
   "cell_type": "markdown",
   "metadata": {},
   "source": [
    "### 2. Build InstagramScraper class\n",
    "based on: https://edmundmartin.com/scraping-instagram-with-python/"
   ]
  },
  {
   "cell_type": "markdown",
   "metadata": {},
   "source": [
    "Switching user agents is often a best practice when web scraping and can help you avoid detection. Should the caller of our class have provided their own list of user agents we take a random agent from the provided list.  Otherwise we will return our default user agent."
   ]
  },
  {
   "cell_type": "markdown",
   "metadata": {},
   "source": [
    "Define a class called InstagramScraper: "
   ]
  },
  {
   "cell_type": "code",
   "execution_count": 2,
   "metadata": {},
   "outputs": [],
   "source": [
    "# url header for requests.get()\n",
    "headers={'User-Agent':  'Mozilla/5.0 (Windows NT 10.0; Win64; x64) AppleWebKit/537.36 (KHTML, like Gecko) Chrome/65.0.3325.181 Safari/537.36'\n",
    "         ,  'content-type': 'application/json'\n",
    "         , 'accept-encoding': 'gzip, deflate, br'\n",
    "         , 'cache-control': 'no-cache'\n",
    "         , 'accept' : '*/*'\n",
    "         , 'accept-language' : 'de-DE, de; q=0.9,en-US; q=0.8,en;q=0.7'\n",
    "         #, 'referer' : url\n",
    "         , 'connection' : 'keep-alive'\n",
    "         , 'cookie' : 'ig_cb=1; ig_did=DA66C494-9DFE-48F6-BA63-66F11DF8EC03; csrftoken=ukE8jYSjQxVs1YGPYddEkAXsN6WZ4Qmw; mid=XoChrAALAAG78Upva7Ld0TAzeTtm; rur=ASH; urlgen=\"{\\\"2a04:ee41:4:95:91f9:b9d4:8aab:41c\\\": 15796\\054 \\\"213.55.241.7\\\": 15796\\054 \\\"2a04:ee41:4:95:60ae:def3:2fd7:3633\\\": 15796}:1jIpww:PTjjrSzpjC6dWww8-AVOnfdQAFA\"'\n",
    "        }\n",
    "_user_agents = [\n",
    "   'Mozilla/5.0 (Windows NT 10.0; Win64; x64) AppleWebKit/537.36 (KHTML, like Gecko) Chrome/65.0.3325.181 Safari/537.36'\n",
    "]"
   ]
  },
  {
   "cell_type": "code",

   "execution_count": 3,
=======
   "execution_count": 15,

   "metadata": {},
   "outputs": [],
   "source": [
    "class InstagramScraper:\n",
    "\n",
    "    def __init__(self, user_agents=None, proxy=None):\n",
    "        self.user_agents = user_agents\n",
    "        self.proxy = proxy\n",
    "\n",
    "    def __random_agent(self):\n",
    "        if self.user_agents and isinstance(self.user_agents, list):\n",
    "            return choice(self.user_agents)\n",
    "        return choice(_user_agents)\n",
    "\n",
    "    def __request_url(self, url):\n",
    "        \"\"\"Our second helper method is simply a wrapper around requests. \n",
    "        We pass in a URL and try to make a request using the provided user agent and proxy. \n",
    "        If we are unable to make the request or Instagram responds with a non-200 status code we simply re-raise the error. \n",
    "        If everything goes fine, we return the page in questions HTML.\"\"\"\n",
    "        try:\n",
    "            response = requests.get(url, headers={'User-Agent': self.__random_agent()}, proxies={'http': self.proxy, 'https': self.proxy})\n",
    "            #response = requests.get(url, headers=headers, proxies={'http': self.proxy, 'https': self.proxy})\n",
    "            response.raise_for_status()\n",
    "        except requests.HTTPError:\n",
    "            raise requests.HTTPError('Received non 200 status code from Instagram')\n",
    "        except requests.RequestException:\n",
    "            raise requests.RequestException('Internet connection failed.')\n",
    "        else:\n",
    "            return response.text\n",
    "\n",
    "\n",
    "    @staticmethod\n",
    "    def extract_json_data(html):\n",
    "        \"\"\"Instagram serve’s all the of information regarding a user in the form of JavaScript object. \n",
    "        This means that we can extract all of a users profile information and their recent posts by just \n",
    "        making a HTML request to their profile page. We simply need to turn this JavaScript object into \n",
    "        JSON, which is very easy to do.\"\"\"\n",
    "        soup = BeautifulSoup(html, 'html.parser')\n",
    "        body = soup.find('body')\n",
    "        script_tag = body.find('script')\n",
    "        #pprint(script_tag)\n",
    "        #print('\\n')\n",
    "        #pprint(type(script_tag))\n",
    "        content = script_tag.contents#.strip().replace('window._sharedData =', '').replace(';', '')\n",
    "        #######\n",
    "        content_string = ''.join(content)\n",
    "        raw_string = content_string.strip().replace('window._sharedData =', '').replace(';', '')\n",
    "        #######\n",
    "        #print('\\n')\n",
    "        #pprint(raw_string)\n",
    "        #print('\\n')\n",
    "        #pprint(type(raw_string))\n",
    "        return json.loads(raw_string)\n",
    "\n",
    "    def profile_page_metrics(self, profile_url):\n",
    "        results = {}\n",
    "        try:\n",
    "            response = self.__request_url(profile_url)\n",
    "            json_data = self.extract_json_data(response)\n",
    "            metrics = json_data['entry_data']['ProfilePage'][0]['graphql']['user']\n",
    "        except Exception as e:\n",
    "            raise e\n",
    "        else:\n",
    "            for key, value in metrics.items():\n",
    "                #print('key:', key, '-value:', value)\n",
    "                if key != 'edge_owner_to_timeline_media':\n",
    "                    if value and isinstance(value, dict):\n",
    "                        value = value['count']\n",
    "                        results[key] = value\n",
    "                    elif value:\n",
    "                        results[key] = value\n",
    "        return results\n",
    "\n",
    "    \n",
    "    def hash_page_metrics(self, profile_url):\n",
    "        results = {}\n",
    "        try:\n",
    "            response = self.__request_url(profile_url)\n",
    "            json_data = self.extract_json_data(response)\n",
    "            metrics = json_data['entry_data']['TagPage'][0]['graphql']['hashtag']\n",
    "         \n",
    "        except Exception as e:\n",
    "            raise e\n",
    "        else:\n",
    "            for key, value in metrics.items():\n",
    "                #print('metrics:', metrics)\n",
    "                if key != 'edge_hashtag_to_media' and key != 'edge_hashtag_to_top_posts' and key != 'profile_pic_url':\n",
    "                    results[key] = value\n",
    "                    if value and isinstance(value, dict):\n",
    "                        try: \n",
    "                            value = value['count']            \n",
    "                            results[key] = value\n",
    "                        except: \n",
    "                            results[key] = value\n",
    "                        try: \n",
    "                            sigma = []\n",
    "                            for i in range(0,5): \n",
    "                                #print(i)\n",
    "                                value = value['edges'][i]['node']['name']  \n",
    "                                #print(i)\n",
    "                            sigma.append(value)\n",
    "                            print(len(value['edges']['node']))\n",
    "                            \n",
    "                            #results[key] = sigma\n",
    "                        except: \n",
    "                            results[key] = value \n",
    "                    elif value:\n",
    "                        results[key] = value\n",
    "        return results\n",
    "    \n",
    "    def profile_page_posts(self, profile_url):\n",
    "        results = []\n",
    "        try:\n",
    "            response = self.__request_url(profile_url)\n",
    "            #pprint(response)\n",
    "            json_data = self.extract_json_data(response)\n",
    "            #pprint(json_data)\n",
    "            metrics = json_data['entry_data']['ProfilePage'][0]['graphql']['user']['edge_owner_to_timeline_media'][\"edges\"]\n",
    "            #pprint(metrics)\n",
    "        except Exception as e:\n",
    "            raise e\n",
    "        else:\n",
    "            for node in metrics:\n",
    "                node = node.get('node')\n",
    "                #if node and isinstance(node, dict): #this line only gets most recent post out\n",
    "                results.append(node)\n",
    "        return results\n",
    "    \n",
    "    def hashtag_page_posts(self, hashtag_url):\n",
    "        results = []\n",
    "        try:\n",
    "            response = self.__request_url(hashtag_url)\n",
    "            json_data = self.extract_json_data(response)\n",
    "            #pprint(json_data)\n",
    "            metrics = json_data['entry_data']['TagPage'][0]['graphql']['hashtag']['edge_hashtag_to_media'][\"edges\"]\n",
    "            #pprint(metrics)\n",
    "        except Exception as e:\n",
    "            raise e\n",
    "        else:\n",
    "            for node in metrics:\n",
    "                node = node.get('node')\n",
    "                #if node and isinstance(node, dict): #this line only gets most recent post out\n",
    "                results.append(node)\n",
    "        return results"
   ]
  },
  {
   "cell_type": "markdown",
   "metadata": {},
   "source": [
    "### 3.1 Load URLS of Brand Names Data\n",
    "\n",
    "Specify instragram USERNAME profile whose page you want to scrape. Get a dictionary with all information (image, comments, etc.) from that Instagram profile."
   ]
  },
  {
   "cell_type": "code",
   "execution_count": 4,
   "metadata": {},
   "outputs": [],
   "source": [
    "# to specify\n",
    "try: \n",
    "    directory= r'C:\\Users\\Anonym\\Documents\\GitHub\\DLfM_BrandManagement\\data\\instagram_urls'\n",
    "    os.chdir(directory)\n",
    "except: \n",
    "    directory = r'C:\\Users\\lsamsi\\Documents\\GitHub\\DLfM_BrandManagement\\data\\instagram_urls'\n",
    "    os.chdir(directory)"
   ]
  },
  {
   "cell_type": "markdown",
   "metadata": {},
   "source": [
    "Get out all apparel brands. "
   ]
  },
  {
   "cell_type": "code",
   "execution_count": 5,
   "metadata": {},
   "outputs": [],
   "source": [
    "#import csv\n",
    "\n",
    "#data = pd.read_csv(\"firm_usernames.csv\", header=None)\n",
    "\n",
    "#firm_usernames = data[0].tolist()\n",
    "#firm_usernames[:5]"
   ]
  },
  {
   "cell_type": "code",
   "execution_count": 6,
   "metadata": {},
   "outputs": [],
   "source": [
    "#data = pd.read_csv(\"instagram_hashtags.csv\", header=None)\n",
    "\n",
    "#instagram_hashtags = data[0].tolist()\n",
    "#instagram_hashtags[:5]"
   ]
  },
  {
   "cell_type": "markdown",
   "metadata": {},
   "source": [
    "Perform set theory on both datasets. "
   ]
  },
  {
   "cell_type": "code",
   "execution_count": 7,
   "metadata": {},
   "outputs": [],
   "source": [
    "#def intersection(lst1, lst2): \n",
    " #   lst3 = [value for value in lst1 if value in lst2] \n",
    "  #  return lst3 "
   ]
  },
  {
   "cell_type": "code",
   "execution_count": 8,
   "metadata": {},
   "outputs": [],
   "source": [
    "#def non_intersection(lst1, lst2): \n",
    " #   lst3 = list(set(lst1) ^ set(lst2))\n",
    "  #  return lst3 "
   ]
  },
  {
   "cell_type": "code",
   "execution_count": 9,
   "metadata": {},
   "outputs": [],
   "source": [
    "#def set_difference(lst1, lst2): \n",
    " #   lst3 = list(set(lst1) - set(lst2))\n",
    "  #  return lst3 "
   ]
  },
  {
   "cell_type": "code",
   "execution_count": 10,
   "metadata": {},
   "outputs": [],
   "source": [
    "#print('Number of brands firm usernames: ', len(firm_usernames))\n",
    "#print('Number of brands as instagram hashtags: ', len(instagram_hashtags))\n",
    "#print('Number of same brands (firm usernames and hashtags): ', len(intersection(firm_usernames, instagram_hashtags)))\n",
    "#print('Brands that are both firm usernames and hashtags: ', intersection(firm_usernames, instagram_hashtags)[:5], '...')\n",
    "#print('Brands that are in neither firm usernames nor hashtags: ', non_intersection(firm_usernames, instagram_hashtags)[:5])\n",
    "#print('Brands that are firm usernames only: ', set_difference(firm_usernames, instagram_hashtags)[:5])\n",
    "#print('Brands that are hashtagged only: ', set_difference(instagram_hashtags, firm_usernames)[:5])"
   ]
  },
  {
   "cell_type": "markdown",
   "metadata": {},
   "source": [
    "### 3.2 Specify Instagram page(s)\n",
    "\n",
    "Specify instragram USERNAME profile whose page you want to scrape. Get a dictionary with all information (image, comments, etc.) from that Instagram profile. "
   ]
  },
  {
   "cell_type": "markdown",
   "metadata": {},
   "source": [
    "#### Convert unofficial hashtag to official user-profile name \n",
    "\n",
    "For 'cailler' the '#cailler' user-input will get results on Instagram. The officiel Instagram of cailler might differ, however. \n",
    "The official brandname on Instagram is 'cailler-suisse'. Thus, we need a dataframe to get out the corresponding official name given the unofficial name. \n",
    "\n",
    "This is the reason why **we can only have brands that are listed in this dataframe** and **no other brands**."
   ]
  },
  {
   "cell_type": "code",
   "execution_count": 11,
   "metadata": {},
   "outputs": [],
   "source": [
    "# set directory \n",
    "#import os\n",
    "#directory= r\"C:\\Users\\Anonym\\Documents\\GitHub\\DLfM_BrandManagement\\data\\instagram_urls\"\n",
    "#os.chdir(directory)"
   ]
  },
  {
   "cell_type": "code",
   "execution_count": 12,
   "metadata": {},
   "outputs": [],
   "source": [
    "# load dataframe \n",
    "import pandas as pd \n",
    "\n",
    "convert = pd.read_csv('hashToOfficialName.csv')"
   ]
  },
  {
   "cell_type": "code",
   "execution_count": 13,
   "metadata": {
    "scrolled": true
   },
   "outputs": [
    {
     "data": {
      "text/html": [
       "<div>\n",
       "<style scoped>\n",
       "    .dataframe tbody tr th:only-of-type {\n",
       "        vertical-align: middle;\n",
       "    }\n",
       "\n",
       "    .dataframe tbody tr th {\n",
       "        vertical-align: top;\n",
       "    }\n",
       "\n",
       "    .dataframe thead th {\n",
       "        text-align: right;\n",
       "    }\n",
       "</style>\n",
       "<table border=\"1\" class=\"dataframe\">\n",
       "  <thead>\n",
       "    <tr style=\"text-align: right;\">\n",
       "      <th></th>\n",
       "      <th>instagram_hashtag</th>\n",
       "      <th>firm_account</th>\n",
       "      <th>brand_full_name</th>\n",
       "    </tr>\n",
       "  </thead>\n",
       "  <tbody>\n",
       "    <tr>\n",
       "      <td>0</td>\n",
       "      <td>abercrombie</td>\n",
       "      <td>abercrombie</td>\n",
       "      <td>Abercrombie &amp; Fitch</td>\n",
       "    </tr>\n",
       "    <tr>\n",
       "      <td>1</td>\n",
       "      <td>adidas</td>\n",
       "      <td>adidas</td>\n",
       "      <td>Adidas</td>\n",
       "    </tr>\n",
       "    <tr>\n",
       "      <td>2</td>\n",
       "      <td>anntaylor</td>\n",
       "      <td>anntaylor</td>\n",
       "      <td>Ann Taylor</td>\n",
       "    </tr>\n",
       "    <tr>\n",
       "      <td>3</td>\n",
       "      <td>bacardi</td>\n",
       "      <td>bacardiusa</td>\n",
       "      <td>Bacardi</td>\n",
       "    </tr>\n",
       "    <tr>\n",
       "      <td>4</td>\n",
       "      <td>bananarepublic</td>\n",
       "      <td>bananarepublic</td>\n",
       "      <td>Banana Republic</td>\n",
       "    </tr>\n",
       "  </tbody>\n",
       "</table>\n",
       "</div>"
      ],
      "text/plain": [
       "  instagram_hashtag    firm_account       brand_full_name\n",
       "0       abercrombie     abercrombie   Abercrombie & Fitch\n",
       "1            adidas          adidas                Adidas\n",
       "2         anntaylor       anntaylor            Ann Taylor\n",
       "3           bacardi      bacardiusa               Bacardi\n",
       "4    bananarepublic  bananarepublic       Banana Republic"
      ]
     },
     "execution_count": 13,
     "metadata": {},
     "output_type": "execute_result"
    }
   ],
   "source": [
    "convert.head()"
   ]
  },
  {
   "cell_type": "code",
   "execution_count": 14,
   "metadata": {
    "scrolled": true
   },
   "outputs": [],
   "source": [
    "# pages that have access denial because of age limit\n",
    "# are you 18/21 or over? \n",
    "#urls.remove('https://www.instagram.com/bacardiusa/?hl=en')"
   ]
  },
  {
   "cell_type": "code",
   "execution_count": 15,
   "metadata": {},
   "outputs": [],
   "source": [
    "# items to be removed from list\n",
    "#agelimited_brands = {'bacardiusa', 'budlight', 'budweiser', 'coorslight', 'corona', 'greygoose', 'jackdaniels_us', 'korbel_1882'} \n",
    "  \n",
    "#firm_usernames = [ele for ele in firm_usernames if ele not in agelimited_brands] "
   ]
  },
  {
   "cell_type": "code",
   "execution_count": 16,
   "metadata": {},
   "outputs": [
    {
     "data": {
      "text/html": [
       "<div>\n",
       "<style scoped>\n",
       "    .dataframe tbody tr th:only-of-type {\n",
       "        vertical-align: middle;\n",
       "    }\n",
       "\n",
       "    .dataframe tbody tr th {\n",
       "        vertical-align: top;\n",
       "    }\n",
       "\n",
       "    .dataframe thead th {\n",
       "        text-align: right;\n",
       "    }\n",
       "</style>\n",
       "<table border=\"1\" class=\"dataframe\">\n",
       "  <thead>\n",
       "    <tr style=\"text-align: right;\">\n",
       "      <th></th>\n",
       "      <th>instagram_hashtag</th>\n",
       "      <th>firm_account</th>\n",
       "      <th>brand_full_name</th>\n",
       "    </tr>\n",
       "  </thead>\n",
       "  <tbody>\n",
       "    <tr>\n",
       "      <td>0</td>\n",
       "      <td>abercrombie</td>\n",
       "      <td>abercrombie</td>\n",
       "      <td>Abercrombie &amp; Fitch</td>\n",
       "    </tr>\n",
       "    <tr>\n",
       "      <td>1</td>\n",
       "      <td>adidas</td>\n",
       "      <td>adidas</td>\n",
       "      <td>Adidas</td>\n",
       "    </tr>\n",
       "    <tr>\n",
       "      <td>2</td>\n",
       "      <td>anntaylor</td>\n",
       "      <td>anntaylor</td>\n",
       "      <td>Ann Taylor</td>\n",
       "    </tr>\n",
       "    <tr>\n",
       "      <td>4</td>\n",
       "      <td>bananarepublic</td>\n",
       "      <td>bananarepublic</td>\n",
       "      <td>Banana Republic</td>\n",
       "    </tr>\n",
       "    <tr>\n",
       "      <td>5</td>\n",
       "      <td>bigelow</td>\n",
       "      <td>bigelowtea</td>\n",
       "      <td>Bigelow`s Tea</td>\n",
       "    </tr>\n",
       "  </tbody>\n",
       "</table>\n",
       "</div>"
      ],
      "text/plain": [
       "  instagram_hashtag    firm_account       brand_full_name\n",
       "0       abercrombie     abercrombie   Abercrombie & Fitch\n",
       "1            adidas          adidas                Adidas\n",
       "2         anntaylor       anntaylor            Ann Taylor\n",
       "4    bananarepublic  bananarepublic       Banana Republic\n",
       "5           bigelow      bigelowtea         Bigelow`s Tea"
      ]
     },
     "execution_count": 16,
     "metadata": {},
     "output_type": "execute_result"
    }
   ],
   "source": [
    "# items to be removed from conversion dataframe \n",
    "agelimited_brands = ['bacardiusa', 'budlight', 'budweiser', 'coorslight', 'corona', 'greygoose', 'jackdaniels_us', 'korbel_1882'] \n",
    "\n",
    "convert = convert[~(convert.firm_account.isin(agelimited_brands))]\n",
    "convert.head()"
   ]
  },
  {
   "cell_type": "code",
   "execution_count": 17,
   "metadata": {},
   "outputs": [],
   "source": [
    "def hashToOfficial(hashing): \n",
    "    username = convert.loc[convert['instagram_hashtag'] == hashing, 'firm_account'].iloc[0]\n",
    "    return username"
   ]
  },
  {
   "cell_type": "code",
   "execution_count": 18,
   "metadata": {},
   "outputs": [],
   "source": [
    "#TODO \n",
    "# for keyword written in style of brand_full_name, get out instahashtag and firm_account"
   ]
  },
  {
   "cell_type": "markdown",
   "metadata": {},
   "source": [
    "#### Keyword input"
   ]
  },
  {
   "cell_type": "code",
   "execution_count": 19,
   "metadata": {},
   "outputs": [],
   "source": [
    "brands_on_display = convert['instagram_hashtag'].tolist()\n",
    "brands_on_display = ', '.join(brands_on_display)"
   ]
  },
  {
   "cell_type": "code",
   "execution_count": null,
   "metadata": {
    "scrolled": true
   },
   "outputs": [
    {
     "name": "stdout",
     "output_type": "stream",
     "text": [
      "Choose from these brandnames to get a brand management analysis: abercrombie, adidas, anntaylor, bananarepublic, bigelow, carhartt, cocacola, converse, dockers, dolcegabbana, domperignon, drpepper, eddiebauer, fanta, gap, gatorade, gucci, guess, hanes, hollister, honesttea, jcrew, joeboxer, juicycouture, kennethcole, levis, lipton, llbean, luckybrand, moetchandon, monsterenergy, nesquik, oldnavy, oshkosh, prada, ralphlauren, sanpellegrino, snapple, tazo, tommyhilfiger, underarmour, urbanoutfitters, victoriassecret, vitaminwater, welchs, minutemaid, motts, swissmiss\n"
     ]
    }
   ],
   "source": [
    "print('Choose from these brandnames to get a brand management analysis:', brands_on_display)\n",
    "keyword = input('Which brandname do you want to analyze?')\n",
    "# 'sanpellegrino'"
   ]
  },
  {
   "cell_type": "markdown",
   "metadata": {},
   "source": [
    "#### Hashtag Page\n",
    "\n",
    "If you want to open a hashtag page (instead of a user profile): "
   ]
  },
  {
   "cell_type": "code",
   "execution_count": null,
   "metadata": {},
   "outputs": [],
   "source": [
    "# for multiple brands  \n",
    "#hash_urls = []\n",
    "#username = False\n",
    "\n",
    "#for hashtag in instagram_hashtags: \n",
    " #   url = 'https://www.instagram.com/explore/tags/'+hashtag\n",
    "  #  hash_urls.append(url)\n",
    "\n",
    "#hash_urls[:2]"
   ]
  },
  {
   "cell_type": "code",
   "execution_count": 11,
   "metadata": {},
   "outputs": [],
   "source": [
    "# for one brand only \n",
    "\n",
    "# to specify user_input\n",
    "hashtag = keyword \n",
    "hash_url = 'https://www.instagram.com/explore/tags/'+hashtag"
   ]
  },
  {
   "cell_type": "markdown",
   "metadata": {},
   "source": [
    "#### User-profile Page\n",
    "\n",
    "If you want to scrape a user-profile page, specify the username as:"
   ]
  },
  {
   "cell_type": "code",
   "execution_count": 12,
   "metadata": {},
   "outputs": [],
   "source": [
    "# for multiple firms  \n",
    "#urls = []\n",
    "#hashtag = False\n",
    "\n",
    "#for username in firm_usernames: \n",
    " #   url = 'https://www.instagram.com/'+username+'/?hl=en'\n",
    "  #  urls.append(url)\n",
    "\n",
    "#urls[:2]"
   ]
  },
  {
   "cell_type": "code",

   "execution_count": 4,
=======
   "execution_count": 13,

   "metadata": {},
   "outputs": [],
   "source": [
    "# for one firm only \n",
    "\n",
    "# to specify user_input\n",
    "username= 'swatch'#hashToOfficial(hashtag)\n",
    "url = 'https://www.instagram.com/'+username+'/?hl=en'"
   ]
  },
  {
   "cell_type": "markdown",
   "metadata": {},
   "source": [
    "### 3. Get information from Instagram page(s) [optional]\n",
    "\n",
    "Now that the url of the Instagram page is defined, it will extract out all the posts or meta-information from the website usinge the InstagramScraper class. \n",
    "\n",
    "Get meta-information metrics by using a class method. "
   ]
  },
  {
   "cell_type": "code",
   "execution_count": 14,
   "metadata": {
    "scrolled": true
   },
   "outputs": [],
   "source": [
    "# get profile page metrics\n",
    "#from pprint import pprint\n",
    "\n",
    "#k = InstagramScraper()\n",
    "#results = k.profile_page_metrics(url) \n",
    "#pprint(results)"
   ]
  },
  {
   "cell_type": "code",
   "execution_count": 15,
   "metadata": {},
   "outputs": [],
   "source": [
    "# get hashtag page metrics\n",
    "#from pprint import pprint\n",
    "\n",
    "#k = InstagramScraper()\n",
    "#TODO\n",
    "#results = k.hash_page_metrics(url) \n",
    "#pprint(results)"
   ]
  },
  {
   "cell_type": "markdown",
   "metadata": {},
   "source": [
    "### 4. Get image posts from Instagram page(s)\n",
    "\n",
    "Get all posts on an Instagram **profile page** that are visible on the landing page (more items only load as you scroll downwards). The page loads 12 items at a time, and I need to scroll to load all entries (for a total of 120)."
   ]
  },
  {
   "cell_type": "markdown",
   "metadata": {},
   "source": [
    "#### User-profile Page"
   ]
  },
  {
   "cell_type": "code",
   "execution_count": 16,
   "metadata": {},
   "outputs": [],
   "source": [
    "# get posts (images) from multiple profile pages \n",
    "#from pprint import pprint\n",
    "\n",
    "#resultz = []\n",
    "#for url in urls: \n",
    " #   k = InstagramScraper()\n",
    "  #  results = k.profile_page_posts(url)\n",
    "   # resultz.append(results)\n",
    "    #print('Instagram page: ', url)\n",
    "\n",
    "#print('Total number of Instagram user-profile pages: ', len(resultz))\n",
    "#print('Total number of images: ', len(resultz)*len(resultz[0]))\n",
    "#print('Average number of images per Instagram user-profile page: ', len(resultz)*len(resultz[0])/len(resultz) )"
   ]
  },
  {
   "cell_type": "code",

   "execution_count": 5,
=======
   "execution_count": 17,

   "metadata": {},
   "outputs": [
    {
     "name": "stdout",
     "output_type": "stream",
     "text": [
      "Instagram page:  https://www.instagram.com/swatch/?hl=en\n",
      "Posts on Instagram profile page:  12\n",

      "Second image url on instagram profile:  https://scontent-zrh1-1.cdninstagram.com/v/t51.2885-15/e35/92325642_555606671755081_4842661307025510973_n.jpg?_nc_ht=scontent-zrh1-1.cdninstagram.com&_nc_cat=101&_nc_ohc=oktNGDWcS9gAX8ZyaLa&oh=ab96a727e6612d3111004ad78034b859&oe=5E92A81C\n"
=======
      "Second image url on instagram profile:  https://instagram.fzrh2-1.fna.fbcdn.net/v/t51.2885-15/e35/92497975_211526653607211_8789391721779063029_n.jpg?_nc_ht=instagram.fzrh2-1.fna.fbcdn.net&_nc_cat=103&_nc_ohc=9jAtQ9_TQoQAX_ggJsA&oh=cb1c0da04f28a8360370adb54665ee32&oe=5E91580A\n"

     ]
    }
   ],
   "source": [
    "# get posts (images) from single profile page \n",
    "\n",
    "from pprint import pprint\n",
    "\n",
    "k = InstagramScraper()\n",
    "results = k.profile_page_posts(url)\n",
    "\n",
    "print('Instagram page: ', url)\n",
    "print('Posts on Instagram profile page: ', len(results))\n",
    "print('Second image url on instagram profile: ', results[1]['display_url'])"
   ]
  },
  {
   "cell_type": "markdown",
   "metadata": {},
   "source": [
    "#### Hashtag Page\n",
    "\n",
    "Get all posts on an Instagram **hashtag page** that are visible on the landing page. "
   ]
  },
  {
   "cell_type": "code",
   "execution_count": null,
   "metadata": {},
   "outputs": [],
   "source": [
    "# get posts (images) from multiple hashtag pages \n",
    "#from pprint import pprint\n",
    "\n",
    "#hash_result = []\n",
    "#for url in hash_urls: \n",
    " #   k = InstagramScraper()\n",
    "  #  results = k.hashtag_page_posts(url)\n",
    "   # hash_result.append(results)\n",
    "    #print('Instagram page: ', url)\n",
    "\n",
    "#print('Total number of Instagram hashtag pages: ', len(hash_result))\n",
    "#print('Total number of hashed images: ', len(hash_result)*len(hash_result[0]))\n",
    "#print('Average number of images per Instagram hashtag page: ', len(hash_result)*len(hash_result[0])/len(hash_result) )"
   ]
  },
  {
   "cell_type": "code",
   "execution_count": 18,
   "metadata": {},
   "outputs": [
    {
     "name": "stdout",
     "output_type": "stream",
     "text": [
      "Instagram page:  https://www.instagram.com/swatch/?hl=en\n",
      "Posts on Instagram hashtag page:  71\n",
      "Second image url on instagram hashtag:  https://instagram.fzrh2-1.fna.fbcdn.net/v/t51.2885-15/e35/92699038_535770204022180_218545724626981989_n.jpg?_nc_ht=instagram.fzrh2-1.fna.fbcdn.net&_nc_cat=104&_nc_ohc=C6PSSyaikOkAX8D1-iA&oh=d0a966f359353f4347dcafad4c640a70&oe=5EBA64CD\n"
     ]
    }
   ],
   "source": [
    "# get posts (images) from a hashtag page \n",
    "from pprint import pprint\n",
    "\n",
    "k = InstagramScraper()\n",
    "hash_results = k.hashtag_page_posts(hash_url)\n",
    "\n",
    "print('Instagram page: ', url)\n",
    "print('Posts on Instagram hashtag page: ', len(hash_results))\n",
    "print('Second image url on instagram hashtag: ', hash_results[1]['display_url'])"
   ]
  },
  {
   "cell_type": "markdown",
   "metadata": {},
   "source": [
    "### Test to save images directly in a Python object --> no disksaving"
   ]
  },
  {
   "cell_type": "code",
   "execution_count": 32,
   "metadata": {},
   "outputs": [
    {
     "name": "stdout",
     "output_type": "stream",
     "text": [
      "(300, 300, 3)\n",
      "(300, 300, 3)\n",
      "(300, 300, 3)\n",
      "(300, 300, 3)\n",
      "(300, 300, 3)\n",
      "(300, 300, 3)\n",
      "(300, 300, 3)\n",
      "(300, 300, 3)\n",
      "(300, 300, 3)\n",
      "(300, 300, 3)\n",
      "(300, 300, 3)\n",
      "(300, 300, 3)\n",
      "(12, 300, 300, 3)\n"
     ]
    }
   ],
   "source": [
    "from PIL import Image\n",
    "from io import BytesIO\n",
    "from keras.preprocessing.image import load_img, img_to_array\n",
    "import numpy as np\n",
    "\n",
    "# specify the size of the image\n",
    "target_size = (300,300)\n",
    "\n",
    "images_list = []\n",
    "for result in range(len(results)):\n",
    "    # get the image based on the 'display_url'\n",
    "    response = requests.get(results[result]['display_url'], stream=True)\n",
    "    # convert it into a bytes object\n",
    "    bytes = BytesIO(response.content)\n",
    "    # convert it into an Image object\n",
    "    image = Image.open(bytes)\n",
    "    \n",
    "    # resize the image if necessary\n",
    "    if image.size != target_size:\n",
    "        image = image.resize(target_size)\n",
    "    \n",
    "    # convert the image to a keras array and finally to a numpy array    \n",
    "    train_image = img_to_array(image)\n",
    "    train_image = np.array(train_image)\n",
    "    print(train_image.shape)\n",
    "    \n",
    "    images_list.append(train_image)\n",
    "    \n",
    "# convert the images_list into one numpy array (used as X_test for the model)\n",
    "images_np = np.stack(images_list, axis=0)\n",
    "print(images_np.shape)"
   ]
  },
  {
   "cell_type": "markdown",
   "metadata": {},
   "source": [
    "### 5. Save images into folders\n",
    "\n",
    "Save images from list of dict: Use requests library to download images from the ‘display_url’ in pandas ‘result’ data frame and store them with respective shortcode as file name.\n",
    "\n",
    "Specify the directory for storing the images. "
   ]
  },
  {
   "cell_type": "code",
   "execution_count": null,
   "metadata": {},
   "outputs": [],
   "source": [
    "# load modules\n",
    "import os\n",
    "import requests\n",
    "import shutil"
   ]
  },
  {
   "cell_type": "markdown",
   "metadata": {},
   "source": [
    "Some functions..."
   ]
  },
  {
   "cell_type": "code",
   "execution_count": null,
   "metadata": {},
   "outputs": [],
   "source": [
    "def set_root_path_images(): \n",
    "    \n",
    "    # to specify\n",
    "    try: \n",
    "        directory= r\"C:\\Users\\Anonym\\Documents\\GitHub\\DLfM_BrandManagement\\data\"\n",
    "        os.chdir(directory)\n",
    "    except: \n",
    "        directory= r\"C:\\Users\\lsamsi\\Documents\\GitHub\\DLfM_BrandManagement\\data\"\n",
    "        os.chdir(directory)\n",
    "    folder = 'instagram_images' #image root folder, all subfolders' name are firmnames\n",
    "\n",
    "    os.chdir(directory)\n",
    "\n",
    "    try: \n",
    "        os.mkdir(folder)\n",
    "    except: \n",
    "        pass\n",
    "\n",
    "    path = os.path.join(directory, folder)\n",
    "    os.chdir(path)\n",
    "    return path "
   ]
  },
  {
   "cell_type": "code",
   "execution_count": null,
   "metadata": {},
   "outputs": [],
   "source": [
    "def build_folders_images(account, folder, path): \n",
    "        try: \n",
    "            os.mkdir(os.path.join(path, account))\n",
    "        except: \n",
    "            pass\n",
    "        \n",
    "        # set directory \n",
    "        directory = os.path.join(path, account)\n",
    "        os.chdir(directory)   \n",
    "        try: \n",
    "            os.mkdir(folder)\n",
    "            print('new folder created for: ', account)\n",
    "        except: \n",
    "            pass\n",
    "        path = os.path.join(directory, folder)\n",
    "        os.chdir(path)\n",
    "        return path \n"
   ]
  },
  {
   "cell_type": "markdown",
   "metadata": {},
   "source": [
    " #### User-profile page\n",
    " \n",
    " Save all images from user-profile Instagram pages to your folder. "
   ]
  },
  {
   "cell_type": "code",
   "execution_count": null,
   "metadata": {},
   "outputs": [],
   "source": [
    "# download all visible images from multiple Instagram pages \n",
    "\n",
    "#for i, username in enumerate(firm_usernames): \n",
    " #   path = set_root_path_images()\n",
    "  #  build_folders_images(username, 'user_profile', path)\n",
    "\n",
    "    # get image url \n",
    "   # for j in range(len(resultz[i])): \n",
    "    #    r = requests.get(resultz[i][j]['display_url'], stream=True)\n",
    "     #   with open(resultz[i][j]['shortcode']+\".jpg\", 'wb') as f:\n",
    "            # Set decode_content value to True, otherwise the downloaded image file's size will be zero.\n",
    "      #      r.raw.decode_content = True\n",
    "            # Copy the response stream raw data to local image file.\n",
    "       #     shutil.copyfileobj(r.raw, f)\n",
    "            # Remove the image url response object.\n",
    "        #    del r\n",
    "            \n",
    "   # print('processed: ', username, ' .', i, ' out of ', len(firm_usernames))"
   ]
  },
  {
   "cell_type": "markdown",
   "metadata": {},
   "source": [
    " #### Hashtag page\n",
    " \n",
    " Save all images from hashtag Instagram pages to your folder. "
   ]
  },
  {
   "cell_type": "code",
   "execution_count": null,
   "metadata": {},
   "outputs": [],
   "source": [
    "# download all visible images from multiple Instagram pages \n",
    "\n",
    "#for i, hashtag in enumerate(instagram_hashtags):\n",
    " #   path = set_root_path_images()\n",
    "  #  build_folders_images(hashtag, 'hashtag', path)\n",
    "\n",
    "    # get image url \n",
    "    #for j in range(len(hash_result[i])): \n",
    "     #   r = requests.get(hash_result[i][j]['display_url'], stream=True)\n",
    "      #  with open(hash_result[i][j]['shortcode']+\".jpg\", 'wb') as f:\n",
    "            # Set decode_content value to True, otherwise the downloaded image file's size will be zero.\n",
    "       #     r.raw.decode_content = True\n",
    "            # Copy the response stream raw data to local image file.\n",
    "        #    shutil.copyfileobj(r.raw, f)\n",
    "            # Remove the image url response object.\n",
    "         #   del r\n",
    "   # print('processed: ', hashtag, ' .', i, ' out of ', len(instagram_hashtags))"
   ]
  },
  {
   "cell_type": "markdown",
   "metadata": {},
   "source": [
    " #### Both pages\n",
    " \n",
    " Save all images from both user profile and hashtag Instagram pages to your folder. "
   ]
  },
  {
   "cell_type": "code",
   "execution_count": null,
   "metadata": {},
   "outputs": [],
   "source": [
    "# download all visible images from multiple Instagram pages \n",
    "\n",
    "#if firm_usernames: \n",
    " #   for i, username in enumerate(firm_usernames): \n",
    "  #      path = set_root_path_images()\n",
    "   #     build_folders_images(username, 'user_profile', path)\n",
    "       \n",
    "        # get image url \n",
    "    #    for j in range(len(resultz[i])): \n",
    "     #       r = requests.get(resultz[i][j]['display_url'], stream=True)\n",
    "      #      with open(resultz[i][j]['shortcode']+\".jpg\", 'wb') as f:\n",
    "                # Set decode_content value to True, otherwise the downloaded image file's size will be zero.\n",
    "       #         r.raw.decode_content = True\n",
    "                # Copy the response stream raw data to local image file.\n",
    "        #        shutil.copyfileobj(r.raw, f)\n",
    "                # Remove the image url response object.\n",
    "         #       del r\n",
    "\n",
    "#elif instagram_hashtags: \n",
    " #   for i, hashtag in enumerate(instagram_hashtags):\n",
    "  #      path = set_root_path_images()\n",
    "   #     build_folders_images(hashtag, 'hashtag', path)\n",
    "\n",
    "        # get image url \n",
    "    #    for j in range(len(hash_result[i])): \n",
    "     #       r = requests.get(hash_result[i][j]['display_url'], stream=True)\n",
    "      #      with open(hash_result[i][j]['shortcode']+\".jpg\", 'wb') as f:\n",
    "                # Set decode_content value to True, otherwise the downloaded image file's size will be zero.\n",
    "       #         r.raw.decode_content = True\n",
    "                # Copy the response stream raw data to local image file.\n",
    "        #        shutil.copyfileobj(r.raw, f)\n",
    "                # Remove the image url response object.\n",
    "         #       del r"
   ]
  },
  {
   "cell_type": "code",
   "execution_count": null,
   "metadata": {},
   "outputs": [],
   "source": [
    "# download all visible images from an Instagram page \n",
    "\n",
    "#path = set_root_path_images()\n",
    "\n",
    "#if username: \n",
    "#    build_folders_images(username, 'user_profile', path)\n",
    "#elif hashtag: \n",
    " #   build_folders_images(hashtag, 'hashtag', path)\n",
    "\n",
    "#for i in range(len(results)):\n",
    " #   r = requests.get(results[i]['display_url'], stream=True)\n",
    "  #  with open(results[i]['shortcode']+\".jpg\", 'wb') as f:\n",
    "        # Set decode_content value to True, otherwise the downloaded image file's size will be zero.\n",
    "   #     r.raw.decode_content = True\n",
    "        # Copy the response stream raw data to local image file.\n",
    "    #    shutil.copyfileobj(r.raw, f)\n",
    "        # Remove the image url response object.\n",
    "     #   del r"
   ]
  },
  {
   "cell_type": "code",
   "execution_count": null,
   "metadata": {},
   "outputs": [],
   "source": [
    "# download one image only\n",
    "\n",
    "#path = set_root_path_images()\n",
    "\n",
    "#r = requests.get(url, stream=True)\n",
    "\n",
    "#with open(directory+\"B-Tckr0AgrH\"+\".jpg\", 'wb') as f:\n",
    "    # Set decode_content value to True, otherwise the downloaded image file's size will be zero.\n",
    " #   r.raw.decode_content = True\n",
    "    # Copy the response stream raw data to local image file.\n",
    "  #  shutil.copyfileobj(r.raw, f)\n",
    "    # Remove the image url response object.\n",
    "   # del r"
   ]
  },
  {
   "cell_type": "markdown",
   "metadata": {},
   "source": [
    "### 5. Save images\n",
    "\n",
    "Specify the directory for storing the images.\n",
    "\n",
    "Save images onto your PC, then load the images into a numpy array (variable) - for official and unofficial images of a brand. "
   ]
  },
  {
   "cell_type": "markdown",
   "metadata": {},
   "source": [
    "#### User-profile page"
   ]
  },
  {
   "cell_type": "code",
   "execution_count": null,
   "metadata": {
    "scrolled": true
   },
   "outputs": [],
   "source": [
    "# load modules \n",
    "import imageio\n",
    "import json\n",
    "import numpy as np\n",
    "\n",
    "# set directory \n",
    "path = set_root_path_images()"
   ]
  },
  {
   "cell_type": "code",
   "execution_count": null,
   "metadata": {},
   "outputs": [],
   "source": [
    "# create folders\n",
    "build_folders_images(hashtag, 'official', path)\n",
    "print('Directory set to: ', os.getcwd())"
   ]
  },
  {
   "cell_type": "code",
   "execution_count": null,
   "metadata": {},
   "outputs": [],
   "source": [
    "#https://gist.github.com/abhaymise/b011f9d68456f1d87561d71af2f7fd6a\n",
    "\n",
    "# save images to PC \n",
    "for i in range(len(results)):\n",
    "    r = requests.get(results[i]['display_url'], stream=True)\n",
    "    with open(f\"{i}_\"+results[i]['shortcode']+\".png\", 'wb') as f:\n",
    "        # Set decode_content value to True, otherwise the downloaded image file's size will be zero.\n",
    "        r.raw.decode_content = True\n",
    "        # Copy the response stream raw data to local image file.\n",
    "        shutil.copyfileobj(r.raw, f)\n",
    "        # Remove the image url response object.\n",
    "        del r\n",
    "        "
   ]
  },
  {
   "cell_type": "code",
   "execution_count": null,
   "metadata": {},
   "outputs": [],
   "source": [
    "# specify image dimension\n",
    "IMG_WIDTH=300\n",
    "IMG_HEIGHT=300\n",
    "IMG_DIM = (IMG_WIDTH, IMG_HEIGHT)"
   ]
  },
  {
   "cell_type": "code",
   "execution_count": null,
   "metadata": {},
   "outputs": [],
   "source": [
    "# load modules \n",
    "from io import BytesIO\n",
    "import base64\n",
    "from PIL import Image\n",
    "from keras.preprocessing.image import load_img, img_to_array\n",
    "\n",
    "# list of images as np.arrays \n",
    "images_lst = []\n",
    "#np.array([0])\n",
    "for i in range(len(results)):\n",
    "    # load image \n",
    "    #byteImg = Image.open(results[i]['shortcode']+\".png\")\n",
    "    # image into numpy array \n",
    "    #img_np = np.array(byteImg)\n",
    "    #images_np.append(img_np)\n",
    "    \n",
    "    # load image \n",
    "    train_imgs = img_to_array(load_img(f\"{i}_\"+results[i]['shortcode']+\".png\", target_size=IMG_DIM))\n",
    "    train_imgs = np.array(train_imgs)\n",
    "    images_lst.append(train_imgs)"
   ]
  },
  {
   "cell_type": "code",
   "execution_count": null,
   "metadata": {},
   "outputs": [],
   "source": [
    "# all images as numpy array (for feeding as X_test)\n",
    "images_np = np.stack(images_lst, axis=0)\n",
    "print(images_np.shape)"
   ]
  },
  {
   "cell_type": "code",
   "execution_count": null,
   "metadata": {},
   "outputs": [],
   "source": [
    "# set directory \n",
    "path = set_root_path_images()\n",
    "\n",
    "np.save(f'{hashtag}_official_npimgs.npy', images_np)"
   ]
  },
  {
   "cell_type": "markdown",
   "metadata": {},
   "source": [
    "#### Hashtag page"
   ]
  },
  {
   "cell_type": "code",
   "execution_count": null,
   "metadata": {},
   "outputs": [],
   "source": [
    "# load modules \n",
    "import imageio\n",
    "import json\n",
    "import numpy as np\n",
    "\n",
    "# set directory \n",
    "path = set_root_path_images()"
   ]
  },
  {
   "cell_type": "code",
   "execution_count": null,
   "metadata": {},
   "outputs": [],
   "source": [
    "# create folders\n",
    "build_folders_images(hashtag, 'unofficial', path)\n",
    "print('Directory set to: ', os.getcwd())"
   ]
  },
  {
   "cell_type": "code",
   "execution_count": null,
   "metadata": {},
   "outputs": [],
   "source": [
    "#https://gist.github.com/abhaymise/b011f9d68456f1d87561d71af2f7fd6a\n",
    "\n",
    "# save images to PC\n",
    "for i in range(len(hash_results)):\n",
    "    r = requests.get(hash_results[i]['display_url'], stream=True)\n",
    "    with open(f\"{i}_\"+hash_results[i]['shortcode']+\".png\", 'wb') as f:\n",
    "        # Set decode_content value to True, otherwise the downloaded image file's size will be zero.\n",
    "        r.raw.decode_content = True\n",
    "        # Copy the response stream raw data to local image file.\n",
    "        shutil.copyfileobj(r.raw, f)\n",
    "        # Remove the image url response object.\n",
    "        del r"
   ]
  },
  {
   "cell_type": "code",
   "execution_count": null,
   "metadata": {},
   "outputs": [],
   "source": [
    "# specify image dimension\n",
    "IMG_WIDTH=300\n",
    "IMG_HEIGHT=300\n",
    "IMG_DIM = (IMG_WIDTH, IMG_HEIGHT)"
   ]
  },
  {
   "cell_type": "code",
   "execution_count": null,
   "metadata": {},
   "outputs": [],
   "source": [
    "# load modules \n",
    "from io import BytesIO\n",
    "import base64\n",
    "from PIL import Image\n",
    "from keras.preprocessing.image import load_img, img_to_array\n",
    "\n",
    "# list of images as np.arrays \n",
    "hash_images_lst = []\n",
    "for i in range(len(hash_results)):\n",
    "    # load image \n",
    "    byteImg = Image.open(f\"{i}_\"+hash_results[i]['shortcode']+\".png\")\n",
    "    # load image \n",
    "    train_imgs2 = img_to_array(load_img(f\"{i}_\"+hash_results[i]['shortcode']+\".png\", target_size=IMG_DIM))\n",
    "    train_imgs2 = np.array(train_imgs2)\n",
    "    hash_images_lst.append(train_imgs2)"
   ]
  },
  {
   "cell_type": "code",
   "execution_count": null,
   "metadata": {},
   "outputs": [],
   "source": [
    "# all images as numpy array (for feeding as X_test)\n",
    "hash_images_np = np.stack(hash_images_lst, axis=0)\n",
    "print(hash_images_np.shape)"
   ]
  },
  {
   "cell_type": "code",
   "execution_count": null,
   "metadata": {},
   "outputs": [],
   "source": [
    "# set directory \n",
    "path = set_root_path_images()\n",
    "\n",
    "np.save(f'{hashtag}_unofficial_npimgs.npy', hash_images_np)"
   ]
  },
  {
   "cell_type": "code",
   "execution_count": null,
   "metadata": {},
   "outputs": [],
   "source": []
  }
 ],
 "metadata": {
  "kernelspec": {
   "display_name": "Python 3",
   "language": "python",
   "name": "python3"
  },
  "language_info": {
   "codemirror_mode": {
    "name": "ipython",
    "version": 3
   },
   "file_extension": ".py",
   "mimetype": "text/x-python",
   "name": "python",
   "nbconvert_exporter": "python",
   "pygments_lexer": "ipython3",
   "version": "3.7.4"
  }
 },
 "nbformat": 4,
 "nbformat_minor": 2
}
